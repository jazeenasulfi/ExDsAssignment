{
  "cells": [
    {
      "cell_type": "code",
      "execution_count": 135,
      "metadata": {
        "colab": {
          "base_uri": "https://localhost:8080/"
        },
        "id": "kOGBB3bTQ73K",
        "outputId": "e5f81f70-1636-45bc-a4e1-ef56c4f17db1"
      },
      "outputs": [
        {
          "output_type": "stream",
          "name": "stdout",
          "text": [
            "Requirement already satisfied: tensorflow in /usr/local/lib/python3.10/dist-packages (2.14.0)\n",
            "Requirement already satisfied: absl-py>=1.0.0 in /usr/local/lib/python3.10/dist-packages (from tensorflow) (1.4.0)\n",
            "Requirement already satisfied: astunparse>=1.6.0 in /usr/local/lib/python3.10/dist-packages (from tensorflow) (1.6.3)\n",
            "Requirement already satisfied: flatbuffers>=23.5.26 in /usr/local/lib/python3.10/dist-packages (from tensorflow) (23.5.26)\n",
            "Requirement already satisfied: gast!=0.5.0,!=0.5.1,!=0.5.2,>=0.2.1 in /usr/local/lib/python3.10/dist-packages (from tensorflow) (0.5.4)\n",
            "Requirement already satisfied: google-pasta>=0.1.1 in /usr/local/lib/python3.10/dist-packages (from tensorflow) (0.2.0)\n",
            "Requirement already satisfied: h5py>=2.9.0 in /usr/local/lib/python3.10/dist-packages (from tensorflow) (3.9.0)\n",
            "Requirement already satisfied: libclang>=13.0.0 in /usr/local/lib/python3.10/dist-packages (from tensorflow) (16.0.6)\n",
            "Requirement already satisfied: ml-dtypes==0.2.0 in /usr/local/lib/python3.10/dist-packages (from tensorflow) (0.2.0)\n",
            "Requirement already satisfied: numpy>=1.23.5 in /usr/local/lib/python3.10/dist-packages (from tensorflow) (1.23.5)\n",
            "Requirement already satisfied: opt-einsum>=2.3.2 in /usr/local/lib/python3.10/dist-packages (from tensorflow) (3.3.0)\n",
            "Requirement already satisfied: packaging in /usr/local/lib/python3.10/dist-packages (from tensorflow) (23.2)\n",
            "Requirement already satisfied: protobuf!=4.21.0,!=4.21.1,!=4.21.2,!=4.21.3,!=4.21.4,!=4.21.5,<5.0.0dev,>=3.20.3 in /usr/local/lib/python3.10/dist-packages (from tensorflow) (3.20.3)\n",
            "Requirement already satisfied: setuptools in /usr/local/lib/python3.10/dist-packages (from tensorflow) (67.7.2)\n",
            "Requirement already satisfied: six>=1.12.0 in /usr/local/lib/python3.10/dist-packages (from tensorflow) (1.16.0)\n",
            "Requirement already satisfied: termcolor>=1.1.0 in /usr/local/lib/python3.10/dist-packages (from tensorflow) (2.3.0)\n",
            "Requirement already satisfied: typing-extensions>=3.6.6 in /usr/local/lib/python3.10/dist-packages (from tensorflow) (4.5.0)\n",
            "Requirement already satisfied: wrapt<1.15,>=1.11.0 in /usr/local/lib/python3.10/dist-packages (from tensorflow) (1.14.1)\n",
            "Requirement already satisfied: tensorflow-io-gcs-filesystem>=0.23.1 in /usr/local/lib/python3.10/dist-packages (from tensorflow) (0.34.0)\n",
            "Requirement already satisfied: grpcio<2.0,>=1.24.3 in /usr/local/lib/python3.10/dist-packages (from tensorflow) (1.59.3)\n",
            "Requirement already satisfied: tensorboard<2.15,>=2.14 in /usr/local/lib/python3.10/dist-packages (from tensorflow) (2.14.1)\n",
            "Requirement already satisfied: tensorflow-estimator<2.15,>=2.14.0 in /usr/local/lib/python3.10/dist-packages (from tensorflow) (2.14.0)\n",
            "Requirement already satisfied: keras<2.15,>=2.14.0 in /usr/local/lib/python3.10/dist-packages (from tensorflow) (2.14.0)\n",
            "Requirement already satisfied: wheel<1.0,>=0.23.0 in /usr/local/lib/python3.10/dist-packages (from astunparse>=1.6.0->tensorflow) (0.42.0)\n",
            "Requirement already satisfied: google-auth<3,>=1.6.3 in /usr/local/lib/python3.10/dist-packages (from tensorboard<2.15,>=2.14->tensorflow) (2.17.3)\n",
            "Requirement already satisfied: google-auth-oauthlib<1.1,>=0.5 in /usr/local/lib/python3.10/dist-packages (from tensorboard<2.15,>=2.14->tensorflow) (1.0.0)\n",
            "Requirement already satisfied: markdown>=2.6.8 in /usr/local/lib/python3.10/dist-packages (from tensorboard<2.15,>=2.14->tensorflow) (3.5.1)\n",
            "Requirement already satisfied: requests<3,>=2.21.0 in /usr/local/lib/python3.10/dist-packages (from tensorboard<2.15,>=2.14->tensorflow) (2.31.0)\n",
            "Requirement already satisfied: tensorboard-data-server<0.8.0,>=0.7.0 in /usr/local/lib/python3.10/dist-packages (from tensorboard<2.15,>=2.14->tensorflow) (0.7.2)\n",
            "Requirement already satisfied: werkzeug>=1.0.1 in /usr/local/lib/python3.10/dist-packages (from tensorboard<2.15,>=2.14->tensorflow) (3.0.1)\n",
            "Requirement already satisfied: cachetools<6.0,>=2.0.0 in /usr/local/lib/python3.10/dist-packages (from google-auth<3,>=1.6.3->tensorboard<2.15,>=2.14->tensorflow) (5.3.2)\n",
            "Requirement already satisfied: pyasn1-modules>=0.2.1 in /usr/local/lib/python3.10/dist-packages (from google-auth<3,>=1.6.3->tensorboard<2.15,>=2.14->tensorflow) (0.3.0)\n",
            "Requirement already satisfied: rsa<5,>=3.1.4 in /usr/local/lib/python3.10/dist-packages (from google-auth<3,>=1.6.3->tensorboard<2.15,>=2.14->tensorflow) (4.9)\n",
            "Requirement already satisfied: requests-oauthlib>=0.7.0 in /usr/local/lib/python3.10/dist-packages (from google-auth-oauthlib<1.1,>=0.5->tensorboard<2.15,>=2.14->tensorflow) (1.3.1)\n",
            "Requirement already satisfied: charset-normalizer<4,>=2 in /usr/local/lib/python3.10/dist-packages (from requests<3,>=2.21.0->tensorboard<2.15,>=2.14->tensorflow) (3.3.2)\n",
            "Requirement already satisfied: idna<4,>=2.5 in /usr/local/lib/python3.10/dist-packages (from requests<3,>=2.21.0->tensorboard<2.15,>=2.14->tensorflow) (3.6)\n",
            "Requirement already satisfied: urllib3<3,>=1.21.1 in /usr/local/lib/python3.10/dist-packages (from requests<3,>=2.21.0->tensorboard<2.15,>=2.14->tensorflow) (2.0.7)\n",
            "Requirement already satisfied: certifi>=2017.4.17 in /usr/local/lib/python3.10/dist-packages (from requests<3,>=2.21.0->tensorboard<2.15,>=2.14->tensorflow) (2023.11.17)\n",
            "Requirement already satisfied: MarkupSafe>=2.1.1 in /usr/local/lib/python3.10/dist-packages (from werkzeug>=1.0.1->tensorboard<2.15,>=2.14->tensorflow) (2.1.3)\n",
            "Requirement already satisfied: pyasn1<0.6.0,>=0.4.6 in /usr/local/lib/python3.10/dist-packages (from pyasn1-modules>=0.2.1->google-auth<3,>=1.6.3->tensorboard<2.15,>=2.14->tensorflow) (0.5.1)\n",
            "Requirement already satisfied: oauthlib>=3.0.0 in /usr/local/lib/python3.10/dist-packages (from requests-oauthlib>=0.7.0->google-auth-oauthlib<1.1,>=0.5->tensorboard<2.15,>=2.14->tensorflow) (3.2.2)\n"
          ]
        }
      ],
      "source": [
        "!pip install tensorflow"
      ]
    },
    {
      "cell_type": "code",
      "execution_count": 136,
      "metadata": {
        "id": "PLHy5XFtRQHB"
      },
      "outputs": [],
      "source": [
        "import pandas as pd"
      ]
    },
    {
      "cell_type": "code",
      "execution_count": 137,
      "metadata": {
        "id": "CzWjIHVDRQDe"
      },
      "outputs": [],
      "source": [
        "import tensorflow as tf"
      ]
    },
    {
      "cell_type": "code",
      "execution_count": 138,
      "metadata": {
        "colab": {
          "base_uri": "https://localhost:8080/"
        },
        "id": "rgHKzLHURQAO",
        "outputId": "141ae515-6f04-4c8e-8810-272ba727da14"
      },
      "outputs": [
        {
          "output_type": "stream",
          "name": "stdout",
          "text": [
            "Requirement already satisfied: keras in /usr/local/lib/python3.10/dist-packages (2.14.0)\n"
          ]
        }
      ],
      "source": [
        "!pip install keras"
      ]
    },
    {
      "cell_type": "code",
      "execution_count": 139,
      "metadata": {
        "id": "aKlvfmF0RVvu"
      },
      "outputs": [],
      "source": [
        "# Create your first MLP in Keras\n",
        "from keras.models import Sequential\n",
        "from keras.layers import Dense\n",
        "import numpy"
      ]
    },
    {
      "cell_type": "code",
      "execution_count": 140,
      "metadata": {
        "colab": {
          "base_uri": "https://localhost:8080/",
          "height": 206
        },
        "id": "BTy7-0TJRVlY",
        "outputId": "4e934373-b8b0-42a7-b775-2d04af4e9acd"
      },
      "outputs": [
        {
          "output_type": "execute_result",
          "data": {
            "text/plain": [
              "       AT      AP      AH    AFDP    GTEP     TIT     TAT     TEY     CDP  \\\n",
              "0  6.8594  1007.9  96.799  3.5000  19.663  1059.2  550.00  114.70  10.605   \n",
              "1  6.7850  1008.4  97.118  3.4998  19.728  1059.3  550.00  114.72  10.598   \n",
              "2  6.8977  1008.8  95.939  3.4824  19.779  1059.4  549.87  114.71  10.601   \n",
              "3  7.0569  1009.2  95.249  3.4805  19.792  1059.6  549.99  114.72  10.606   \n",
              "4  7.3978  1009.7  95.150  3.4976  19.765  1059.7  549.98  114.72  10.612   \n",
              "\n",
              "       CO     NOX  \n",
              "0  3.1547  82.722  \n",
              "1  3.2363  82.776  \n",
              "2  3.2012  82.468  \n",
              "3  3.1923  82.670  \n",
              "4  3.2484  82.311  "
            ],
            "text/html": [
              "\n",
              "  <div id=\"df-c4abcdd7-b91b-4afe-a5cc-e519ab234433\" class=\"colab-df-container\">\n",
              "    <div>\n",
              "<style scoped>\n",
              "    .dataframe tbody tr th:only-of-type {\n",
              "        vertical-align: middle;\n",
              "    }\n",
              "\n",
              "    .dataframe tbody tr th {\n",
              "        vertical-align: top;\n",
              "    }\n",
              "\n",
              "    .dataframe thead th {\n",
              "        text-align: right;\n",
              "    }\n",
              "</style>\n",
              "<table border=\"1\" class=\"dataframe\">\n",
              "  <thead>\n",
              "    <tr style=\"text-align: right;\">\n",
              "      <th></th>\n",
              "      <th>AT</th>\n",
              "      <th>AP</th>\n",
              "      <th>AH</th>\n",
              "      <th>AFDP</th>\n",
              "      <th>GTEP</th>\n",
              "      <th>TIT</th>\n",
              "      <th>TAT</th>\n",
              "      <th>TEY</th>\n",
              "      <th>CDP</th>\n",
              "      <th>CO</th>\n",
              "      <th>NOX</th>\n",
              "    </tr>\n",
              "  </thead>\n",
              "  <tbody>\n",
              "    <tr>\n",
              "      <th>0</th>\n",
              "      <td>6.8594</td>\n",
              "      <td>1007.9</td>\n",
              "      <td>96.799</td>\n",
              "      <td>3.5000</td>\n",
              "      <td>19.663</td>\n",
              "      <td>1059.2</td>\n",
              "      <td>550.00</td>\n",
              "      <td>114.70</td>\n",
              "      <td>10.605</td>\n",
              "      <td>3.1547</td>\n",
              "      <td>82.722</td>\n",
              "    </tr>\n",
              "    <tr>\n",
              "      <th>1</th>\n",
              "      <td>6.7850</td>\n",
              "      <td>1008.4</td>\n",
              "      <td>97.118</td>\n",
              "      <td>3.4998</td>\n",
              "      <td>19.728</td>\n",
              "      <td>1059.3</td>\n",
              "      <td>550.00</td>\n",
              "      <td>114.72</td>\n",
              "      <td>10.598</td>\n",
              "      <td>3.2363</td>\n",
              "      <td>82.776</td>\n",
              "    </tr>\n",
              "    <tr>\n",
              "      <th>2</th>\n",
              "      <td>6.8977</td>\n",
              "      <td>1008.8</td>\n",
              "      <td>95.939</td>\n",
              "      <td>3.4824</td>\n",
              "      <td>19.779</td>\n",
              "      <td>1059.4</td>\n",
              "      <td>549.87</td>\n",
              "      <td>114.71</td>\n",
              "      <td>10.601</td>\n",
              "      <td>3.2012</td>\n",
              "      <td>82.468</td>\n",
              "    </tr>\n",
              "    <tr>\n",
              "      <th>3</th>\n",
              "      <td>7.0569</td>\n",
              "      <td>1009.2</td>\n",
              "      <td>95.249</td>\n",
              "      <td>3.4805</td>\n",
              "      <td>19.792</td>\n",
              "      <td>1059.6</td>\n",
              "      <td>549.99</td>\n",
              "      <td>114.72</td>\n",
              "      <td>10.606</td>\n",
              "      <td>3.1923</td>\n",
              "      <td>82.670</td>\n",
              "    </tr>\n",
              "    <tr>\n",
              "      <th>4</th>\n",
              "      <td>7.3978</td>\n",
              "      <td>1009.7</td>\n",
              "      <td>95.150</td>\n",
              "      <td>3.4976</td>\n",
              "      <td>19.765</td>\n",
              "      <td>1059.7</td>\n",
              "      <td>549.98</td>\n",
              "      <td>114.72</td>\n",
              "      <td>10.612</td>\n",
              "      <td>3.2484</td>\n",
              "      <td>82.311</td>\n",
              "    </tr>\n",
              "  </tbody>\n",
              "</table>\n",
              "</div>\n",
              "    <div class=\"colab-df-buttons\">\n",
              "\n",
              "  <div class=\"colab-df-container\">\n",
              "    <button class=\"colab-df-convert\" onclick=\"convertToInteractive('df-c4abcdd7-b91b-4afe-a5cc-e519ab234433')\"\n",
              "            title=\"Convert this dataframe to an interactive table.\"\n",
              "            style=\"display:none;\">\n",
              "\n",
              "  <svg xmlns=\"http://www.w3.org/2000/svg\" height=\"24px\" viewBox=\"0 -960 960 960\">\n",
              "    <path d=\"M120-120v-720h720v720H120Zm60-500h600v-160H180v160Zm220 220h160v-160H400v160Zm0 220h160v-160H400v160ZM180-400h160v-160H180v160Zm440 0h160v-160H620v160ZM180-180h160v-160H180v160Zm440 0h160v-160H620v160Z\"/>\n",
              "  </svg>\n",
              "    </button>\n",
              "\n",
              "  <style>\n",
              "    .colab-df-container {\n",
              "      display:flex;\n",
              "      gap: 12px;\n",
              "    }\n",
              "\n",
              "    .colab-df-convert {\n",
              "      background-color: #E8F0FE;\n",
              "      border: none;\n",
              "      border-radius: 50%;\n",
              "      cursor: pointer;\n",
              "      display: none;\n",
              "      fill: #1967D2;\n",
              "      height: 32px;\n",
              "      padding: 0 0 0 0;\n",
              "      width: 32px;\n",
              "    }\n",
              "\n",
              "    .colab-df-convert:hover {\n",
              "      background-color: #E2EBFA;\n",
              "      box-shadow: 0px 1px 2px rgba(60, 64, 67, 0.3), 0px 1px 3px 1px rgba(60, 64, 67, 0.15);\n",
              "      fill: #174EA6;\n",
              "    }\n",
              "\n",
              "    .colab-df-buttons div {\n",
              "      margin-bottom: 4px;\n",
              "    }\n",
              "\n",
              "    [theme=dark] .colab-df-convert {\n",
              "      background-color: #3B4455;\n",
              "      fill: #D2E3FC;\n",
              "    }\n",
              "\n",
              "    [theme=dark] .colab-df-convert:hover {\n",
              "      background-color: #434B5C;\n",
              "      box-shadow: 0px 1px 3px 1px rgba(0, 0, 0, 0.15);\n",
              "      filter: drop-shadow(0px 1px 2px rgba(0, 0, 0, 0.3));\n",
              "      fill: #FFFFFF;\n",
              "    }\n",
              "  </style>\n",
              "\n",
              "    <script>\n",
              "      const buttonEl =\n",
              "        document.querySelector('#df-c4abcdd7-b91b-4afe-a5cc-e519ab234433 button.colab-df-convert');\n",
              "      buttonEl.style.display =\n",
              "        google.colab.kernel.accessAllowed ? 'block' : 'none';\n",
              "\n",
              "      async function convertToInteractive(key) {\n",
              "        const element = document.querySelector('#df-c4abcdd7-b91b-4afe-a5cc-e519ab234433');\n",
              "        const dataTable =\n",
              "          await google.colab.kernel.invokeFunction('convertToInteractive',\n",
              "                                                    [key], {});\n",
              "        if (!dataTable) return;\n",
              "\n",
              "        const docLinkHtml = 'Like what you see? Visit the ' +\n",
              "          '<a target=\"_blank\" href=https://colab.research.google.com/notebooks/data_table.ipynb>data table notebook</a>'\n",
              "          + ' to learn more about interactive tables.';\n",
              "        element.innerHTML = '';\n",
              "        dataTable['output_type'] = 'display_data';\n",
              "        await google.colab.output.renderOutput(dataTable, element);\n",
              "        const docLink = document.createElement('div');\n",
              "        docLink.innerHTML = docLinkHtml;\n",
              "        element.appendChild(docLink);\n",
              "      }\n",
              "    </script>\n",
              "  </div>\n",
              "\n",
              "\n",
              "<div id=\"df-ef78b417-0a78-4803-a71a-5166210f1c4d\">\n",
              "  <button class=\"colab-df-quickchart\" onclick=\"quickchart('df-ef78b417-0a78-4803-a71a-5166210f1c4d')\"\n",
              "            title=\"Suggest charts\"\n",
              "            style=\"display:none;\">\n",
              "\n",
              "<svg xmlns=\"http://www.w3.org/2000/svg\" height=\"24px\"viewBox=\"0 0 24 24\"\n",
              "     width=\"24px\">\n",
              "    <g>\n",
              "        <path d=\"M19 3H5c-1.1 0-2 .9-2 2v14c0 1.1.9 2 2 2h14c1.1 0 2-.9 2-2V5c0-1.1-.9-2-2-2zM9 17H7v-7h2v7zm4 0h-2V7h2v10zm4 0h-2v-4h2v4z\"/>\n",
              "    </g>\n",
              "</svg>\n",
              "  </button>\n",
              "\n",
              "<style>\n",
              "  .colab-df-quickchart {\n",
              "      --bg-color: #E8F0FE;\n",
              "      --fill-color: #1967D2;\n",
              "      --hover-bg-color: #E2EBFA;\n",
              "      --hover-fill-color: #174EA6;\n",
              "      --disabled-fill-color: #AAA;\n",
              "      --disabled-bg-color: #DDD;\n",
              "  }\n",
              "\n",
              "  [theme=dark] .colab-df-quickchart {\n",
              "      --bg-color: #3B4455;\n",
              "      --fill-color: #D2E3FC;\n",
              "      --hover-bg-color: #434B5C;\n",
              "      --hover-fill-color: #FFFFFF;\n",
              "      --disabled-bg-color: #3B4455;\n",
              "      --disabled-fill-color: #666;\n",
              "  }\n",
              "\n",
              "  .colab-df-quickchart {\n",
              "    background-color: var(--bg-color);\n",
              "    border: none;\n",
              "    border-radius: 50%;\n",
              "    cursor: pointer;\n",
              "    display: none;\n",
              "    fill: var(--fill-color);\n",
              "    height: 32px;\n",
              "    padding: 0;\n",
              "    width: 32px;\n",
              "  }\n",
              "\n",
              "  .colab-df-quickchart:hover {\n",
              "    background-color: var(--hover-bg-color);\n",
              "    box-shadow: 0 1px 2px rgba(60, 64, 67, 0.3), 0 1px 3px 1px rgba(60, 64, 67, 0.15);\n",
              "    fill: var(--button-hover-fill-color);\n",
              "  }\n",
              "\n",
              "  .colab-df-quickchart-complete:disabled,\n",
              "  .colab-df-quickchart-complete:disabled:hover {\n",
              "    background-color: var(--disabled-bg-color);\n",
              "    fill: var(--disabled-fill-color);\n",
              "    box-shadow: none;\n",
              "  }\n",
              "\n",
              "  .colab-df-spinner {\n",
              "    border: 2px solid var(--fill-color);\n",
              "    border-color: transparent;\n",
              "    border-bottom-color: var(--fill-color);\n",
              "    animation:\n",
              "      spin 1s steps(1) infinite;\n",
              "  }\n",
              "\n",
              "  @keyframes spin {\n",
              "    0% {\n",
              "      border-color: transparent;\n",
              "      border-bottom-color: var(--fill-color);\n",
              "      border-left-color: var(--fill-color);\n",
              "    }\n",
              "    20% {\n",
              "      border-color: transparent;\n",
              "      border-left-color: var(--fill-color);\n",
              "      border-top-color: var(--fill-color);\n",
              "    }\n",
              "    30% {\n",
              "      border-color: transparent;\n",
              "      border-left-color: var(--fill-color);\n",
              "      border-top-color: var(--fill-color);\n",
              "      border-right-color: var(--fill-color);\n",
              "    }\n",
              "    40% {\n",
              "      border-color: transparent;\n",
              "      border-right-color: var(--fill-color);\n",
              "      border-top-color: var(--fill-color);\n",
              "    }\n",
              "    60% {\n",
              "      border-color: transparent;\n",
              "      border-right-color: var(--fill-color);\n",
              "    }\n",
              "    80% {\n",
              "      border-color: transparent;\n",
              "      border-right-color: var(--fill-color);\n",
              "      border-bottom-color: var(--fill-color);\n",
              "    }\n",
              "    90% {\n",
              "      border-color: transparent;\n",
              "      border-bottom-color: var(--fill-color);\n",
              "    }\n",
              "  }\n",
              "</style>\n",
              "\n",
              "  <script>\n",
              "    async function quickchart(key) {\n",
              "      const quickchartButtonEl =\n",
              "        document.querySelector('#' + key + ' button');\n",
              "      quickchartButtonEl.disabled = true;  // To prevent multiple clicks.\n",
              "      quickchartButtonEl.classList.add('colab-df-spinner');\n",
              "      try {\n",
              "        const charts = await google.colab.kernel.invokeFunction(\n",
              "            'suggestCharts', [key], {});\n",
              "      } catch (error) {\n",
              "        console.error('Error during call to suggestCharts:', error);\n",
              "      }\n",
              "      quickchartButtonEl.classList.remove('colab-df-spinner');\n",
              "      quickchartButtonEl.classList.add('colab-df-quickchart-complete');\n",
              "    }\n",
              "    (() => {\n",
              "      let quickchartButtonEl =\n",
              "        document.querySelector('#df-ef78b417-0a78-4803-a71a-5166210f1c4d button');\n",
              "      quickchartButtonEl.style.display =\n",
              "        google.colab.kernel.accessAllowed ? 'block' : 'none';\n",
              "    })();\n",
              "  </script>\n",
              "</div>\n",
              "    </div>\n",
              "  </div>\n"
            ]
          },
          "metadata": {},
          "execution_count": 140
        }
      ],
      "source": [
        "df = pd.read_csv(\"gas_turbines.csv\")\n",
        "df.head()"
      ]
    },
    {
      "cell_type": "markdown",
      "metadata": {
        "id": "Q4j6deSESRQ7"
      },
      "source": [
        "# **EDA**"
      ]
    },
    {
      "cell_type": "code",
      "execution_count": 140,
      "metadata": {
        "id": "8IEeTkR4rDG8"
      },
      "outputs": [],
      "source": []
    },
    {
      "cell_type": "code",
      "execution_count": 141,
      "metadata": {
        "colab": {
          "base_uri": "https://localhost:8080/"
        },
        "id": "5iuA6ZUYRVgh",
        "outputId": "68d78092-2e59-4b3f-8032-b840d0d7a23d"
      },
      "outputs": [
        {
          "output_type": "execute_result",
          "data": {
            "text/plain": [
              "AT      0\n",
              "AP      0\n",
              "AH      0\n",
              "AFDP    0\n",
              "GTEP    0\n",
              "TIT     0\n",
              "TAT     0\n",
              "TEY     0\n",
              "CDP     0\n",
              "CO      0\n",
              "NOX     0\n",
              "dtype: int64"
            ]
          },
          "metadata": {},
          "execution_count": 141
        }
      ],
      "source": [
        "df.isna().sum()"
      ]
    },
    {
      "cell_type": "code",
      "execution_count": 142,
      "metadata": {
        "colab": {
          "base_uri": "https://localhost:8080/"
        },
        "id": "DwnZJfeNSapT",
        "outputId": "a1317406-03ef-4510-eb9c-d8d67072577d"
      },
      "outputs": [
        {
          "output_type": "execute_result",
          "data": {
            "text/plain": [
              "Index(['AT', 'AP', 'AH', 'AFDP', 'GTEP', 'TIT', 'TAT', 'TEY', 'CDP', 'CO',\n",
              "       'NOX'],\n",
              "      dtype='object')"
            ]
          },
          "metadata": {},
          "execution_count": 142
        }
      ],
      "source": [
        "df.columns\n"
      ]
    },
    {
      "cell_type": "code",
      "execution_count": 143,
      "metadata": {
        "id": "_YcMpUU9rEAj"
      },
      "outputs": [],
      "source": [
        "df=df.iloc[:,[0,1,2,7]]"
      ]
    },
    {
      "cell_type": "code",
      "execution_count": 144,
      "metadata": {
        "colab": {
          "base_uri": "https://localhost:8080/",
          "height": 423
        },
        "id": "XnJ19wTWSal7",
        "outputId": "fea6ac3e-8d2e-4b7e-bbc6-dd8456c64923"
      },
      "outputs": [
        {
          "output_type": "execute_result",
          "data": {
            "text/plain": [
              "             AT        AP        AH     TEY\n",
              "0     -1.439778 -0.826644  1.281436  114.70\n",
              "1     -1.449601 -0.748647  1.304564  114.72\n",
              "2     -1.434721 -0.686250  1.219086  114.71\n",
              "3     -1.413702 -0.623853  1.169060  114.72\n",
              "4     -1.368693 -0.545857  1.161883  114.72\n",
              "...         ...       ...       ...     ...\n",
              "15034 -1.153182 -1.185428  1.401860  111.61\n",
              "15035 -1.303986 -1.138630  1.447753  111.78\n",
              "15036 -1.386267 -1.076233  1.476971  110.19\n",
              "15037 -1.420423 -0.998236  1.441590  110.74\n",
              "15038 -1.430734 -0.935839  1.334652  111.58\n",
              "\n",
              "[15039 rows x 4 columns]"
            ],
            "text/html": [
              "\n",
              "  <div id=\"df-49237ac1-023a-4a36-9a4c-de51a7542269\" class=\"colab-df-container\">\n",
              "    <div>\n",
              "<style scoped>\n",
              "    .dataframe tbody tr th:only-of-type {\n",
              "        vertical-align: middle;\n",
              "    }\n",
              "\n",
              "    .dataframe tbody tr th {\n",
              "        vertical-align: top;\n",
              "    }\n",
              "\n",
              "    .dataframe thead th {\n",
              "        text-align: right;\n",
              "    }\n",
              "</style>\n",
              "<table border=\"1\" class=\"dataframe\">\n",
              "  <thead>\n",
              "    <tr style=\"text-align: right;\">\n",
              "      <th></th>\n",
              "      <th>AT</th>\n",
              "      <th>AP</th>\n",
              "      <th>AH</th>\n",
              "      <th>TEY</th>\n",
              "    </tr>\n",
              "  </thead>\n",
              "  <tbody>\n",
              "    <tr>\n",
              "      <th>0</th>\n",
              "      <td>-1.439778</td>\n",
              "      <td>-0.826644</td>\n",
              "      <td>1.281436</td>\n",
              "      <td>114.70</td>\n",
              "    </tr>\n",
              "    <tr>\n",
              "      <th>1</th>\n",
              "      <td>-1.449601</td>\n",
              "      <td>-0.748647</td>\n",
              "      <td>1.304564</td>\n",
              "      <td>114.72</td>\n",
              "    </tr>\n",
              "    <tr>\n",
              "      <th>2</th>\n",
              "      <td>-1.434721</td>\n",
              "      <td>-0.686250</td>\n",
              "      <td>1.219086</td>\n",
              "      <td>114.71</td>\n",
              "    </tr>\n",
              "    <tr>\n",
              "      <th>3</th>\n",
              "      <td>-1.413702</td>\n",
              "      <td>-0.623853</td>\n",
              "      <td>1.169060</td>\n",
              "      <td>114.72</td>\n",
              "    </tr>\n",
              "    <tr>\n",
              "      <th>4</th>\n",
              "      <td>-1.368693</td>\n",
              "      <td>-0.545857</td>\n",
              "      <td>1.161883</td>\n",
              "      <td>114.72</td>\n",
              "    </tr>\n",
              "    <tr>\n",
              "      <th>...</th>\n",
              "      <td>...</td>\n",
              "      <td>...</td>\n",
              "      <td>...</td>\n",
              "      <td>...</td>\n",
              "    </tr>\n",
              "    <tr>\n",
              "      <th>15034</th>\n",
              "      <td>-1.153182</td>\n",
              "      <td>-1.185428</td>\n",
              "      <td>1.401860</td>\n",
              "      <td>111.61</td>\n",
              "    </tr>\n",
              "    <tr>\n",
              "      <th>15035</th>\n",
              "      <td>-1.303986</td>\n",
              "      <td>-1.138630</td>\n",
              "      <td>1.447753</td>\n",
              "      <td>111.78</td>\n",
              "    </tr>\n",
              "    <tr>\n",
              "      <th>15036</th>\n",
              "      <td>-1.386267</td>\n",
              "      <td>-1.076233</td>\n",
              "      <td>1.476971</td>\n",
              "      <td>110.19</td>\n",
              "    </tr>\n",
              "    <tr>\n",
              "      <th>15037</th>\n",
              "      <td>-1.420423</td>\n",
              "      <td>-0.998236</td>\n",
              "      <td>1.441590</td>\n",
              "      <td>110.74</td>\n",
              "    </tr>\n",
              "    <tr>\n",
              "      <th>15038</th>\n",
              "      <td>-1.430734</td>\n",
              "      <td>-0.935839</td>\n",
              "      <td>1.334652</td>\n",
              "      <td>111.58</td>\n",
              "    </tr>\n",
              "  </tbody>\n",
              "</table>\n",
              "<p>15039 rows × 4 columns</p>\n",
              "</div>\n",
              "    <div class=\"colab-df-buttons\">\n",
              "\n",
              "  <div class=\"colab-df-container\">\n",
              "    <button class=\"colab-df-convert\" onclick=\"convertToInteractive('df-49237ac1-023a-4a36-9a4c-de51a7542269')\"\n",
              "            title=\"Convert this dataframe to an interactive table.\"\n",
              "            style=\"display:none;\">\n",
              "\n",
              "  <svg xmlns=\"http://www.w3.org/2000/svg\" height=\"24px\" viewBox=\"0 -960 960 960\">\n",
              "    <path d=\"M120-120v-720h720v720H120Zm60-500h600v-160H180v160Zm220 220h160v-160H400v160Zm0 220h160v-160H400v160ZM180-400h160v-160H180v160Zm440 0h160v-160H620v160ZM180-180h160v-160H180v160Zm440 0h160v-160H620v160Z\"/>\n",
              "  </svg>\n",
              "    </button>\n",
              "\n",
              "  <style>\n",
              "    .colab-df-container {\n",
              "      display:flex;\n",
              "      gap: 12px;\n",
              "    }\n",
              "\n",
              "    .colab-df-convert {\n",
              "      background-color: #E8F0FE;\n",
              "      border: none;\n",
              "      border-radius: 50%;\n",
              "      cursor: pointer;\n",
              "      display: none;\n",
              "      fill: #1967D2;\n",
              "      height: 32px;\n",
              "      padding: 0 0 0 0;\n",
              "      width: 32px;\n",
              "    }\n",
              "\n",
              "    .colab-df-convert:hover {\n",
              "      background-color: #E2EBFA;\n",
              "      box-shadow: 0px 1px 2px rgba(60, 64, 67, 0.3), 0px 1px 3px 1px rgba(60, 64, 67, 0.15);\n",
              "      fill: #174EA6;\n",
              "    }\n",
              "\n",
              "    .colab-df-buttons div {\n",
              "      margin-bottom: 4px;\n",
              "    }\n",
              "\n",
              "    [theme=dark] .colab-df-convert {\n",
              "      background-color: #3B4455;\n",
              "      fill: #D2E3FC;\n",
              "    }\n",
              "\n",
              "    [theme=dark] .colab-df-convert:hover {\n",
              "      background-color: #434B5C;\n",
              "      box-shadow: 0px 1px 3px 1px rgba(0, 0, 0, 0.15);\n",
              "      filter: drop-shadow(0px 1px 2px rgba(0, 0, 0, 0.3));\n",
              "      fill: #FFFFFF;\n",
              "    }\n",
              "  </style>\n",
              "\n",
              "    <script>\n",
              "      const buttonEl =\n",
              "        document.querySelector('#df-49237ac1-023a-4a36-9a4c-de51a7542269 button.colab-df-convert');\n",
              "      buttonEl.style.display =\n",
              "        google.colab.kernel.accessAllowed ? 'block' : 'none';\n",
              "\n",
              "      async function convertToInteractive(key) {\n",
              "        const element = document.querySelector('#df-49237ac1-023a-4a36-9a4c-de51a7542269');\n",
              "        const dataTable =\n",
              "          await google.colab.kernel.invokeFunction('convertToInteractive',\n",
              "                                                    [key], {});\n",
              "        if (!dataTable) return;\n",
              "\n",
              "        const docLinkHtml = 'Like what you see? Visit the ' +\n",
              "          '<a target=\"_blank\" href=https://colab.research.google.com/notebooks/data_table.ipynb>data table notebook</a>'\n",
              "          + ' to learn more about interactive tables.';\n",
              "        element.innerHTML = '';\n",
              "        dataTable['output_type'] = 'display_data';\n",
              "        await google.colab.output.renderOutput(dataTable, element);\n",
              "        const docLink = document.createElement('div');\n",
              "        docLink.innerHTML = docLinkHtml;\n",
              "        element.appendChild(docLink);\n",
              "      }\n",
              "    </script>\n",
              "  </div>\n",
              "\n",
              "\n",
              "<div id=\"df-14ee360a-e671-4141-927b-579088d6f488\">\n",
              "  <button class=\"colab-df-quickchart\" onclick=\"quickchart('df-14ee360a-e671-4141-927b-579088d6f488')\"\n",
              "            title=\"Suggest charts\"\n",
              "            style=\"display:none;\">\n",
              "\n",
              "<svg xmlns=\"http://www.w3.org/2000/svg\" height=\"24px\"viewBox=\"0 0 24 24\"\n",
              "     width=\"24px\">\n",
              "    <g>\n",
              "        <path d=\"M19 3H5c-1.1 0-2 .9-2 2v14c0 1.1.9 2 2 2h14c1.1 0 2-.9 2-2V5c0-1.1-.9-2-2-2zM9 17H7v-7h2v7zm4 0h-2V7h2v10zm4 0h-2v-4h2v4z\"/>\n",
              "    </g>\n",
              "</svg>\n",
              "  </button>\n",
              "\n",
              "<style>\n",
              "  .colab-df-quickchart {\n",
              "      --bg-color: #E8F0FE;\n",
              "      --fill-color: #1967D2;\n",
              "      --hover-bg-color: #E2EBFA;\n",
              "      --hover-fill-color: #174EA6;\n",
              "      --disabled-fill-color: #AAA;\n",
              "      --disabled-bg-color: #DDD;\n",
              "  }\n",
              "\n",
              "  [theme=dark] .colab-df-quickchart {\n",
              "      --bg-color: #3B4455;\n",
              "      --fill-color: #D2E3FC;\n",
              "      --hover-bg-color: #434B5C;\n",
              "      --hover-fill-color: #FFFFFF;\n",
              "      --disabled-bg-color: #3B4455;\n",
              "      --disabled-fill-color: #666;\n",
              "  }\n",
              "\n",
              "  .colab-df-quickchart {\n",
              "    background-color: var(--bg-color);\n",
              "    border: none;\n",
              "    border-radius: 50%;\n",
              "    cursor: pointer;\n",
              "    display: none;\n",
              "    fill: var(--fill-color);\n",
              "    height: 32px;\n",
              "    padding: 0;\n",
              "    width: 32px;\n",
              "  }\n",
              "\n",
              "  .colab-df-quickchart:hover {\n",
              "    background-color: var(--hover-bg-color);\n",
              "    box-shadow: 0 1px 2px rgba(60, 64, 67, 0.3), 0 1px 3px 1px rgba(60, 64, 67, 0.15);\n",
              "    fill: var(--button-hover-fill-color);\n",
              "  }\n",
              "\n",
              "  .colab-df-quickchart-complete:disabled,\n",
              "  .colab-df-quickchart-complete:disabled:hover {\n",
              "    background-color: var(--disabled-bg-color);\n",
              "    fill: var(--disabled-fill-color);\n",
              "    box-shadow: none;\n",
              "  }\n",
              "\n",
              "  .colab-df-spinner {\n",
              "    border: 2px solid var(--fill-color);\n",
              "    border-color: transparent;\n",
              "    border-bottom-color: var(--fill-color);\n",
              "    animation:\n",
              "      spin 1s steps(1) infinite;\n",
              "  }\n",
              "\n",
              "  @keyframes spin {\n",
              "    0% {\n",
              "      border-color: transparent;\n",
              "      border-bottom-color: var(--fill-color);\n",
              "      border-left-color: var(--fill-color);\n",
              "    }\n",
              "    20% {\n",
              "      border-color: transparent;\n",
              "      border-left-color: var(--fill-color);\n",
              "      border-top-color: var(--fill-color);\n",
              "    }\n",
              "    30% {\n",
              "      border-color: transparent;\n",
              "      border-left-color: var(--fill-color);\n",
              "      border-top-color: var(--fill-color);\n",
              "      border-right-color: var(--fill-color);\n",
              "    }\n",
              "    40% {\n",
              "      border-color: transparent;\n",
              "      border-right-color: var(--fill-color);\n",
              "      border-top-color: var(--fill-color);\n",
              "    }\n",
              "    60% {\n",
              "      border-color: transparent;\n",
              "      border-right-color: var(--fill-color);\n",
              "    }\n",
              "    80% {\n",
              "      border-color: transparent;\n",
              "      border-right-color: var(--fill-color);\n",
              "      border-bottom-color: var(--fill-color);\n",
              "    }\n",
              "    90% {\n",
              "      border-color: transparent;\n",
              "      border-bottom-color: var(--fill-color);\n",
              "    }\n",
              "  }\n",
              "</style>\n",
              "\n",
              "  <script>\n",
              "    async function quickchart(key) {\n",
              "      const quickchartButtonEl =\n",
              "        document.querySelector('#' + key + ' button');\n",
              "      quickchartButtonEl.disabled = true;  // To prevent multiple clicks.\n",
              "      quickchartButtonEl.classList.add('colab-df-spinner');\n",
              "      try {\n",
              "        const charts = await google.colab.kernel.invokeFunction(\n",
              "            'suggestCharts', [key], {});\n",
              "      } catch (error) {\n",
              "        console.error('Error during call to suggestCharts:', error);\n",
              "      }\n",
              "      quickchartButtonEl.classList.remove('colab-df-spinner');\n",
              "      quickchartButtonEl.classList.add('colab-df-quickchart-complete');\n",
              "    }\n",
              "    (() => {\n",
              "      let quickchartButtonEl =\n",
              "        document.querySelector('#df-14ee360a-e671-4141-927b-579088d6f488 button');\n",
              "      quickchartButtonEl.style.display =\n",
              "        google.colab.kernel.accessAllowed ? 'block' : 'none';\n",
              "    })();\n",
              "  </script>\n",
              "</div>\n",
              "    </div>\n",
              "  </div>\n"
            ]
          },
          "metadata": {},
          "execution_count": 144
        }
      ],
      "source": [
        "#StandardScaler: Standardization\n",
        "from sklearn.preprocessing import StandardScaler\n",
        "se = StandardScaler()\n",
        "df.iloc[:,0:3] = se.fit_transform(df.iloc[:,0:3])\n",
        "df"
      ]
    },
    {
      "cell_type": "code",
      "execution_count": 145,
      "metadata": {
        "colab": {
          "base_uri": "https://localhost:8080/"
        },
        "id": "w932wOw4pRTM",
        "outputId": "e981bd53-5d43-43b8-ba3f-e9fad94ca559"
      },
      "outputs": [
        {
          "output_type": "execute_result",
          "data": {
            "text/plain": [
              "0        114.70\n",
              "1        114.72\n",
              "2        114.71\n",
              "3        114.72\n",
              "4        114.72\n",
              "          ...  \n",
              "15034    111.61\n",
              "15035    111.78\n",
              "15036    110.19\n",
              "15037    110.74\n",
              "15038    111.58\n",
              "Name: TEY, Length: 15039, dtype: float64"
            ]
          },
          "metadata": {},
          "execution_count": 145
        }
      ],
      "source": [
        "x = df.iloc[:,0:-1]\n",
        "y = df.iloc[:,-1]\n",
        "y"
      ]
    },
    {
      "cell_type": "code",
      "execution_count": 146,
      "metadata": {
        "id": "7FHVCmmhpRPS"
      },
      "outputs": [],
      "source": [
        "#Training and test data\n",
        "from sklearn.model_selection import train_test_split\n",
        "X_train, X_test, Y_train, Y_test = train_test_split(x,y, test_size = 0.3,random_state=30)"
      ]
    },
    {
      "cell_type": "code",
      "execution_count": 147,
      "metadata": {
        "colab": {
          "base_uri": "https://localhost:8080/"
        },
        "id": "t4diQDXMpRLr",
        "outputId": "312c91b0-2a38-439b-d264-f399c080a2da"
      },
      "outputs": [
        {
          "output_type": "execute_result",
          "data": {
            "text/plain": [
              "(10527, 3)"
            ]
          },
          "metadata": {},
          "execution_count": 147
        }
      ],
      "source": [
        "X_train.shape"
      ]
    },
    {
      "cell_type": "code",
      "execution_count": 147,
      "metadata": {
        "id": "QTqK-MibP33x"
      },
      "outputs": [],
      "source": []
    },
    {
      "cell_type": "markdown",
      "metadata": {
        "id": "JiBaBP15j4p9"
      },
      "source": [
        "# **Model Building**"
      ]
    },
    {
      "cell_type": "code",
      "execution_count": 148,
      "metadata": {
        "id": "lKsEzr0qj4p_"
      },
      "outputs": [],
      "source": [
        "# create model\n",
        "model = Sequential()\n",
        "model.add(Dense(10, input_dim=3, kernel_initializer='uniform', activation='linear')) #1st layer\n",
        "model.add(Dense(8, kernel_initializer='uniform',  activation='linear')) #2nd layer\n",
        "model.add(Dense(1, kernel_initializer='uniform', activation='linear')) #output layer"
      ]
    },
    {
      "cell_type": "code",
      "execution_count": 149,
      "metadata": {
        "id": "jVaHgyZBj4qA"
      },
      "outputs": [],
      "source": [
        "# Compile model\n",
        "model.compile(loss='mean_squared_error', optimizer='adam', metrics=['mse'])"
      ]
    },
    {
      "cell_type": "code",
      "execution_count": 150,
      "metadata": {
        "colab": {
          "base_uri": "https://localhost:8080/"
        },
        "outputId": "6bc90817-d6d4-4479-9d12-f74e773c66d0",
        "id": "lY3Yqqhbj4qB"
      },
      "outputs": [
        {
          "output_type": "stream",
          "name": "stdout",
          "text": [
            "Epoch 1/100\n",
            "211/211 [==============================] - 2s 4ms/step - loss: 17904.8730 - mse: 17904.8730 - val_loss: 16878.8203 - val_mse: 16878.8203\n",
            "Epoch 2/100\n",
            "211/211 [==============================] - 0s 2ms/step - loss: 13333.4980 - mse: 13333.4980 - val_loss: 8612.0254 - val_mse: 8612.0254\n",
            "Epoch 3/100\n",
            "211/211 [==============================] - 1s 3ms/step - loss: 4129.0703 - mse: 4129.0703 - val_loss: 1021.9904 - val_mse: 1021.9904\n",
            "Epoch 4/100\n",
            "211/211 [==============================] - 1s 3ms/step - loss: 407.1958 - mse: 407.1958 - val_loss: 225.8598 - val_mse: 225.8598\n",
            "Epoch 5/100\n",
            "211/211 [==============================] - 0s 2ms/step - loss: 220.6557 - mse: 220.6557 - val_loss: 222.0578 - val_mse: 222.0578\n",
            "Epoch 6/100\n",
            "211/211 [==============================] - 1s 3ms/step - loss: 219.8908 - mse: 219.8908 - val_loss: 221.0103 - val_mse: 221.0103\n",
            "Epoch 7/100\n",
            "211/211 [==============================] - 0s 2ms/step - loss: 220.0589 - mse: 220.0589 - val_loss: 221.1426 - val_mse: 221.1426\n",
            "Epoch 8/100\n",
            "211/211 [==============================] - 0s 2ms/step - loss: 219.8369 - mse: 219.8369 - val_loss: 220.8090 - val_mse: 220.8090\n",
            "Epoch 9/100\n",
            "211/211 [==============================] - 1s 3ms/step - loss: 220.0041 - mse: 220.0041 - val_loss: 220.8509 - val_mse: 220.8509\n",
            "Epoch 10/100\n",
            "211/211 [==============================] - 1s 4ms/step - loss: 220.2853 - mse: 220.2853 - val_loss: 223.2299 - val_mse: 223.2299\n",
            "Epoch 11/100\n",
            "211/211 [==============================] - 1s 6ms/step - loss: 220.1229 - mse: 220.1229 - val_loss: 221.4493 - val_mse: 221.4493\n",
            "Epoch 12/100\n",
            "211/211 [==============================] - 2s 10ms/step - loss: 219.8506 - mse: 219.8506 - val_loss: 221.6369 - val_mse: 221.6369\n",
            "Epoch 13/100\n",
            "211/211 [==============================] - 1s 6ms/step - loss: 220.2390 - mse: 220.2390 - val_loss: 221.7053 - val_mse: 221.7053\n",
            "Epoch 14/100\n",
            "211/211 [==============================] - 1s 4ms/step - loss: 220.1614 - mse: 220.1614 - val_loss: 220.8456 - val_mse: 220.8456\n",
            "Epoch 15/100\n",
            "211/211 [==============================] - 1s 5ms/step - loss: 220.0305 - mse: 220.0305 - val_loss: 221.4474 - val_mse: 221.4474\n",
            "Epoch 16/100\n",
            "211/211 [==============================] - 1s 4ms/step - loss: 219.9451 - mse: 219.9451 - val_loss: 220.7266 - val_mse: 220.7266\n",
            "Epoch 17/100\n",
            "211/211 [==============================] - 1s 5ms/step - loss: 220.1837 - mse: 220.1837 - val_loss: 220.6966 - val_mse: 220.6966\n",
            "Epoch 18/100\n",
            "211/211 [==============================] - 1s 4ms/step - loss: 220.3144 - mse: 220.3144 - val_loss: 221.8245 - val_mse: 221.8245\n",
            "Epoch 19/100\n",
            "211/211 [==============================] - 1s 7ms/step - loss: 220.3099 - mse: 220.3099 - val_loss: 221.6017 - val_mse: 221.6017\n",
            "Epoch 20/100\n",
            "211/211 [==============================] - 1s 5ms/step - loss: 220.0708 - mse: 220.0708 - val_loss: 221.1352 - val_mse: 221.1352\n",
            "Epoch 21/100\n",
            "211/211 [==============================] - 1s 4ms/step - loss: 220.4303 - mse: 220.4303 - val_loss: 220.8776 - val_mse: 220.8776\n",
            "Epoch 22/100\n",
            "211/211 [==============================] - 1s 4ms/step - loss: 220.4017 - mse: 220.4017 - val_loss: 220.8447 - val_mse: 220.8447\n",
            "Epoch 23/100\n",
            "211/211 [==============================] - 1s 6ms/step - loss: 220.2812 - mse: 220.2812 - val_loss: 221.3828 - val_mse: 221.3828\n",
            "Epoch 24/100\n",
            "211/211 [==============================] - 2s 7ms/step - loss: 220.3770 - mse: 220.3770 - val_loss: 222.0570 - val_mse: 222.0570\n",
            "Epoch 25/100\n",
            "211/211 [==============================] - 2s 9ms/step - loss: 220.4197 - mse: 220.4197 - val_loss: 221.4012 - val_mse: 221.4012\n",
            "Epoch 26/100\n",
            "211/211 [==============================] - 1s 7ms/step - loss: 220.4911 - mse: 220.4911 - val_loss: 221.0968 - val_mse: 221.0968\n",
            "Epoch 27/100\n",
            "211/211 [==============================] - 1s 5ms/step - loss: 220.1386 - mse: 220.1386 - val_loss: 222.2246 - val_mse: 222.2246\n",
            "Epoch 28/100\n",
            "211/211 [==============================] - 2s 8ms/step - loss: 220.6131 - mse: 220.6131 - val_loss: 222.0158 - val_mse: 222.0158\n",
            "Epoch 29/100\n",
            "211/211 [==============================] - 1s 4ms/step - loss: 220.5715 - mse: 220.5715 - val_loss: 221.4662 - val_mse: 221.4662\n",
            "Epoch 30/100\n",
            "211/211 [==============================] - 1s 5ms/step - loss: 220.3272 - mse: 220.3272 - val_loss: 221.1684 - val_mse: 221.1684\n",
            "Epoch 31/100\n",
            "211/211 [==============================] - 1s 4ms/step - loss: 220.3251 - mse: 220.3251 - val_loss: 222.7632 - val_mse: 222.7632\n",
            "Epoch 32/100\n",
            "211/211 [==============================] - 1s 4ms/step - loss: 220.7013 - mse: 220.7014 - val_loss: 222.0539 - val_mse: 222.0539\n",
            "Epoch 33/100\n",
            "211/211 [==============================] - 1s 6ms/step - loss: 220.3387 - mse: 220.3387 - val_loss: 222.2307 - val_mse: 222.2307\n",
            "Epoch 34/100\n",
            "211/211 [==============================] - 1s 4ms/step - loss: 220.1967 - mse: 220.1967 - val_loss: 221.1028 - val_mse: 221.1028\n",
            "Epoch 35/100\n",
            "211/211 [==============================] - 1s 3ms/step - loss: 220.3925 - mse: 220.3925 - val_loss: 221.9618 - val_mse: 221.9618\n",
            "Epoch 36/100\n",
            "211/211 [==============================] - 1s 3ms/step - loss: 220.4985 - mse: 220.4985 - val_loss: 221.5568 - val_mse: 221.5568\n",
            "Epoch 37/100\n",
            "211/211 [==============================] - 1s 3ms/step - loss: 220.3069 - mse: 220.3069 - val_loss: 221.2409 - val_mse: 221.2409\n",
            "Epoch 38/100\n",
            "211/211 [==============================] - 1s 3ms/step - loss: 220.4436 - mse: 220.4436 - val_loss: 220.9875 - val_mse: 220.9875\n",
            "Epoch 39/100\n",
            "211/211 [==============================] - 1s 3ms/step - loss: 220.1808 - mse: 220.1808 - val_loss: 221.1468 - val_mse: 221.1468\n",
            "Epoch 40/100\n",
            "211/211 [==============================] - 1s 3ms/step - loss: 220.4847 - mse: 220.4847 - val_loss: 221.6288 - val_mse: 221.6288\n",
            "Epoch 41/100\n",
            "211/211 [==============================] - 1s 3ms/step - loss: 220.1815 - mse: 220.1815 - val_loss: 225.5279 - val_mse: 225.5279\n",
            "Epoch 42/100\n",
            "211/211 [==============================] - 1s 3ms/step - loss: 220.3372 - mse: 220.3372 - val_loss: 221.2833 - val_mse: 221.2833\n",
            "Epoch 43/100\n",
            "211/211 [==============================] - 1s 3ms/step - loss: 220.4990 - mse: 220.4990 - val_loss: 221.8559 - val_mse: 221.8559\n",
            "Epoch 44/100\n",
            "211/211 [==============================] - 0s 2ms/step - loss: 220.3389 - mse: 220.3389 - val_loss: 222.2986 - val_mse: 222.2986\n",
            "Epoch 45/100\n",
            "211/211 [==============================] - 1s 3ms/step - loss: 220.7554 - mse: 220.7554 - val_loss: 220.8273 - val_mse: 220.8273\n",
            "Epoch 46/100\n",
            "211/211 [==============================] - 1s 3ms/step - loss: 220.1318 - mse: 220.1318 - val_loss: 221.6474 - val_mse: 221.6474\n",
            "Epoch 47/100\n",
            "211/211 [==============================] - 0s 2ms/step - loss: 220.4043 - mse: 220.4043 - val_loss: 221.0604 - val_mse: 221.0604\n",
            "Epoch 48/100\n",
            "211/211 [==============================] - 1s 3ms/step - loss: 220.1151 - mse: 220.1151 - val_loss: 222.4027 - val_mse: 222.4027\n",
            "Epoch 49/100\n",
            "211/211 [==============================] - 1s 3ms/step - loss: 220.4545 - mse: 220.4545 - val_loss: 223.2988 - val_mse: 223.2988\n",
            "Epoch 50/100\n",
            "211/211 [==============================] - 1s 3ms/step - loss: 220.5949 - mse: 220.5949 - val_loss: 223.1572 - val_mse: 223.1572\n",
            "Epoch 51/100\n",
            "211/211 [==============================] - 0s 2ms/step - loss: 220.3919 - mse: 220.3919 - val_loss: 221.9741 - val_mse: 221.9741\n",
            "Epoch 52/100\n",
            "211/211 [==============================] - 0s 2ms/step - loss: 220.4153 - mse: 220.4153 - val_loss: 222.1355 - val_mse: 222.1355\n",
            "Epoch 53/100\n",
            "211/211 [==============================] - 1s 3ms/step - loss: 220.4834 - mse: 220.4834 - val_loss: 221.9573 - val_mse: 221.9573\n",
            "Epoch 54/100\n",
            "211/211 [==============================] - 0s 2ms/step - loss: 220.3735 - mse: 220.3735 - val_loss: 221.2682 - val_mse: 221.2682\n",
            "Epoch 55/100\n",
            "211/211 [==============================] - 0s 2ms/step - loss: 220.4031 - mse: 220.4031 - val_loss: 221.5714 - val_mse: 221.5714\n",
            "Epoch 56/100\n",
            "211/211 [==============================] - 0s 2ms/step - loss: 220.4447 - mse: 220.4447 - val_loss: 220.8312 - val_mse: 220.8312\n",
            "Epoch 57/100\n",
            "211/211 [==============================] - 0s 2ms/step - loss: 220.3579 - mse: 220.3579 - val_loss: 221.4538 - val_mse: 221.4538\n",
            "Epoch 58/100\n",
            "211/211 [==============================] - 0s 2ms/step - loss: 220.6621 - mse: 220.6621 - val_loss: 222.6594 - val_mse: 222.6594\n",
            "Epoch 59/100\n",
            "211/211 [==============================] - 0s 2ms/step - loss: 220.4959 - mse: 220.4959 - val_loss: 221.8118 - val_mse: 221.8118\n",
            "Epoch 60/100\n",
            "211/211 [==============================] - 0s 2ms/step - loss: 220.6479 - mse: 220.6479 - val_loss: 222.4286 - val_mse: 222.4286\n",
            "Epoch 61/100\n",
            "211/211 [==============================] - 0s 2ms/step - loss: 220.1495 - mse: 220.1495 - val_loss: 222.1142 - val_mse: 222.1142\n",
            "Epoch 62/100\n",
            "211/211 [==============================] - 1s 3ms/step - loss: 220.4369 - mse: 220.4369 - val_loss: 222.7470 - val_mse: 222.7470\n",
            "Epoch 63/100\n",
            "211/211 [==============================] - 1s 3ms/step - loss: 220.1934 - mse: 220.1934 - val_loss: 221.4065 - val_mse: 221.4065\n",
            "Epoch 64/100\n",
            "211/211 [==============================] - 1s 3ms/step - loss: 220.5747 - mse: 220.5747 - val_loss: 221.6219 - val_mse: 221.6219\n",
            "Epoch 65/100\n",
            "211/211 [==============================] - 1s 3ms/step - loss: 220.5842 - mse: 220.5842 - val_loss: 222.0572 - val_mse: 222.0572\n",
            "Epoch 66/100\n",
            "211/211 [==============================] - 1s 4ms/step - loss: 220.2477 - mse: 220.2477 - val_loss: 221.4545 - val_mse: 221.4545\n",
            "Epoch 67/100\n",
            "211/211 [==============================] - 1s 4ms/step - loss: 220.4663 - mse: 220.4663 - val_loss: 222.1697 - val_mse: 222.1697\n",
            "Epoch 68/100\n",
            "211/211 [==============================] - 1s 3ms/step - loss: 220.2497 - mse: 220.2497 - val_loss: 224.8398 - val_mse: 224.8398\n",
            "Epoch 69/100\n",
            "211/211 [==============================] - 1s 3ms/step - loss: 220.4909 - mse: 220.4909 - val_loss: 221.3411 - val_mse: 221.3411\n",
            "Epoch 70/100\n",
            "211/211 [==============================] - 1s 3ms/step - loss: 220.3486 - mse: 220.3486 - val_loss: 223.4665 - val_mse: 223.4665\n",
            "Epoch 71/100\n",
            "211/211 [==============================] - 1s 3ms/step - loss: 220.5462 - mse: 220.5462 - val_loss: 221.3694 - val_mse: 221.3694\n",
            "Epoch 72/100\n",
            "211/211 [==============================] - 1s 3ms/step - loss: 220.5020 - mse: 220.5020 - val_loss: 222.0972 - val_mse: 222.0972\n",
            "Epoch 73/100\n",
            "211/211 [==============================] - 0s 2ms/step - loss: 220.2675 - mse: 220.2675 - val_loss: 221.3557 - val_mse: 221.3557\n",
            "Epoch 74/100\n",
            "211/211 [==============================] - 1s 3ms/step - loss: 220.4890 - mse: 220.4890 - val_loss: 220.9187 - val_mse: 220.9187\n",
            "Epoch 75/100\n",
            "211/211 [==============================] - 0s 2ms/step - loss: 220.3242 - mse: 220.3242 - val_loss: 220.8801 - val_mse: 220.8802\n",
            "Epoch 76/100\n",
            "211/211 [==============================] - 1s 3ms/step - loss: 220.2090 - mse: 220.2090 - val_loss: 221.9132 - val_mse: 221.9133\n",
            "Epoch 77/100\n",
            "211/211 [==============================] - 1s 3ms/step - loss: 220.6003 - mse: 220.6003 - val_loss: 221.0616 - val_mse: 221.0616\n",
            "Epoch 78/100\n",
            "211/211 [==============================] - 0s 2ms/step - loss: 220.5415 - mse: 220.5415 - val_loss: 221.4095 - val_mse: 221.4095\n",
            "Epoch 79/100\n",
            "211/211 [==============================] - 1s 3ms/step - loss: 220.7555 - mse: 220.7555 - val_loss: 222.2592 - val_mse: 222.2592\n",
            "Epoch 80/100\n",
            "211/211 [==============================] - 1s 3ms/step - loss: 220.3892 - mse: 220.3892 - val_loss: 221.6579 - val_mse: 221.6579\n",
            "Epoch 81/100\n",
            "211/211 [==============================] - 1s 3ms/step - loss: 220.4860 - mse: 220.4860 - val_loss: 222.0008 - val_mse: 222.0008\n",
            "Epoch 82/100\n",
            "211/211 [==============================] - 1s 3ms/step - loss: 220.2874 - mse: 220.2874 - val_loss: 223.1172 - val_mse: 223.1172\n",
            "Epoch 83/100\n",
            "211/211 [==============================] - 1s 3ms/step - loss: 220.7586 - mse: 220.7586 - val_loss: 221.3410 - val_mse: 221.3410\n",
            "Epoch 84/100\n",
            "211/211 [==============================] - 1s 4ms/step - loss: 220.3388 - mse: 220.3388 - val_loss: 222.6847 - val_mse: 222.6847\n",
            "Epoch 85/100\n",
            "211/211 [==============================] - 1s 6ms/step - loss: 220.1247 - mse: 220.1247 - val_loss: 221.1044 - val_mse: 221.1044\n",
            "Epoch 86/100\n",
            "211/211 [==============================] - 2s 9ms/step - loss: 220.3130 - mse: 220.3130 - val_loss: 222.6567 - val_mse: 222.6567\n",
            "Epoch 87/100\n",
            "211/211 [==============================] - 2s 8ms/step - loss: 220.3819 - mse: 220.3819 - val_loss: 222.9324 - val_mse: 222.9324\n",
            "Epoch 88/100\n",
            "211/211 [==============================] - 1s 7ms/step - loss: 220.3248 - mse: 220.3248 - val_loss: 222.7588 - val_mse: 222.7588\n",
            "Epoch 89/100\n",
            "211/211 [==============================] - 1s 5ms/step - loss: 220.6244 - mse: 220.6244 - val_loss: 221.6432 - val_mse: 221.6432\n",
            "Epoch 90/100\n",
            "211/211 [==============================] - 1s 6ms/step - loss: 220.4584 - mse: 220.4584 - val_loss: 221.7325 - val_mse: 221.7325\n",
            "Epoch 91/100\n",
            "211/211 [==============================] - 1s 5ms/step - loss: 220.5733 - mse: 220.5733 - val_loss: 222.1507 - val_mse: 222.1507\n",
            "Epoch 92/100\n",
            "211/211 [==============================] - 1s 6ms/step - loss: 220.2447 - mse: 220.2447 - val_loss: 223.7181 - val_mse: 223.7181\n",
            "Epoch 93/100\n",
            "211/211 [==============================] - 1s 5ms/step - loss: 220.7825 - mse: 220.7825 - val_loss: 223.4424 - val_mse: 223.4424\n",
            "Epoch 94/100\n",
            "211/211 [==============================] - 0s 2ms/step - loss: 220.5843 - mse: 220.5843 - val_loss: 221.0544 - val_mse: 221.0544\n",
            "Epoch 95/100\n",
            "211/211 [==============================] - 1s 3ms/step - loss: 220.4393 - mse: 220.4393 - val_loss: 221.1406 - val_mse: 221.1406\n",
            "Epoch 96/100\n",
            "211/211 [==============================] - 1s 3ms/step - loss: 220.3069 - mse: 220.3069 - val_loss: 221.2350 - val_mse: 221.2350\n",
            "Epoch 97/100\n",
            "211/211 [==============================] - 1s 3ms/step - loss: 220.2191 - mse: 220.2191 - val_loss: 220.9045 - val_mse: 220.9045\n",
            "Epoch 98/100\n",
            "211/211 [==============================] - 0s 2ms/step - loss: 220.7201 - mse: 220.7201 - val_loss: 221.2473 - val_mse: 221.2473\n",
            "Epoch 99/100\n",
            "211/211 [==============================] - 0s 2ms/step - loss: 220.3317 - mse: 220.3317 - val_loss: 222.2450 - val_mse: 222.2450\n",
            "Epoch 100/100\n",
            "211/211 [==============================] - 1s 3ms/step - loss: 219.9981 - mse: 219.9981 - val_loss: 221.2233 - val_mse: 221.2233\n",
            "329/329 [==============================] - 1s 2ms/step - loss: 220.2976 - mse: 220.2976\n",
            "mse 22029.763793945312\n"
          ]
        }
      ],
      "source": [
        "# Fit the model\n",
        "h = model.fit(X_train, Y_train, validation_split=0.2, epochs=100, batch_size=40)\n",
        "\n",
        "# evaluate the model on train data\n",
        "scores = model.evaluate(X_train, Y_train)\n",
        "print(model.metrics_names[1], scores[1]*100)"
      ]
    },
    {
      "cell_type": "code",
      "execution_count": 151,
      "metadata": {
        "colab": {
          "base_uri": "https://localhost:8080/"
        },
        "outputId": "ea6560c9-e8d7-49bd-adfa-103911799b57",
        "id": "jLZ9cQjuj4qC"
      },
      "outputs": [
        {
          "output_type": "stream",
          "name": "stdout",
          "text": [
            "329/329 [==============================] - 1s 2ms/step\n"
          ]
        }
      ],
      "source": [
        "y_pred = model.predict(X_train)"
      ]
    },
    {
      "cell_type": "code",
      "execution_count": 152,
      "metadata": {
        "colab": {
          "base_uri": "https://localhost:8080/"
        },
        "outputId": "bc2fe412-39d3-43e6-824d-bbe04958e026",
        "id": "C4_zOm0Bj4qD"
      },
      "outputs": [
        {
          "output_type": "execute_result",
          "data": {
            "text/plain": [
              "11.746986675260638"
            ]
          },
          "metadata": {},
          "execution_count": 152
        }
      ],
      "source": [
        "from sklearn.metrics import accuracy_score,mean_absolute_error,mean_squared_error\n",
        "mean_absolute_error(Y_train,y_pred)"
      ]
    },
    {
      "cell_type": "code",
      "execution_count": 153,
      "metadata": {
        "colab": {
          "base_uri": "https://localhost:8080/"
        },
        "outputId": "9abf1bf1-85bc-49fe-d795-234ebdd5c3e7",
        "id": "iUlxBVaCj4qE"
      },
      "outputs": [
        {
          "output_type": "stream",
          "name": "stdout",
          "text": [
            "141/141 [==============================] - 0s 2ms/step - loss: 226.1507 - mse: 226.1507\n"
          ]
        }
      ],
      "source": [
        "# testing data\n",
        "test_score = model.evaluate(X_test,Y_test)"
      ]
    },
    {
      "cell_type": "code",
      "execution_count": 154,
      "metadata": {
        "colab": {
          "base_uri": "https://localhost:8080/"
        },
        "outputId": "b61b2f5b-c94d-460e-f17d-1b5b130464f5",
        "id": "RYm67oE6j4qE"
      },
      "outputs": [
        {
          "output_type": "stream",
          "name": "stdout",
          "text": [
            "141/141 [==============================] - 0s 2ms/step\n"
          ]
        }
      ],
      "source": [
        "y_test_pred = model.predict(X_test)"
      ]
    },
    {
      "cell_type": "code",
      "execution_count": 155,
      "metadata": {
        "colab": {
          "base_uri": "https://localhost:8080/"
        },
        "outputId": "526644a3-0583-4c4d-924a-24d692345647",
        "id": "vlFuJQJyj4qF"
      },
      "outputs": [
        {
          "output_type": "execute_result",
          "data": {
            "text/plain": [
              "11.94922068697341"
            ]
          },
          "metadata": {},
          "execution_count": 155
        }
      ],
      "source": [
        "mean_absolute_error(Y_test,y_test_pred)"
      ]
    },
    {
      "cell_type": "code",
      "execution_count": 156,
      "metadata": {
        "colab": {
          "base_uri": "https://localhost:8080/"
        },
        "outputId": "b52537ab-0819-42fe-a73e-a11140541825",
        "id": "cL8XWdv_j4qG"
      },
      "outputs": [
        {
          "output_type": "execute_result",
          "data": {
            "text/plain": [
              "226.15078040038264"
            ]
          },
          "metadata": {},
          "execution_count": 156
        }
      ],
      "source": [
        "mean_squared_error(Y_test,y_test_pred)"
      ]
    },
    {
      "cell_type": "code",
      "execution_count": 157,
      "metadata": {
        "colab": {
          "base_uri": "https://localhost:8080/",
          "height": 927
        },
        "outputId": "fd2acd88-efe8-48be-ab17-ef9636efd288",
        "id": "vFrabKboj4qH"
      },
      "outputs": [
        {
          "output_type": "display_data",
          "data": {
            "text/plain": [
              "<Figure size 640x480 with 1 Axes>"
            ],
            "image/png": "[encoded data removed]"
          },
          "metadata": {}
        },
        {
          "output_type": "display_data",
          "data": {
            "text/plain": [
              "<Figure size 640x480 with 1 Axes>"
            ],
            "image/png": "[encoded data removed]"
          },
          "metadata": {}
        }
      ],
      "source": [
        "# summarize history for accuracy\n",
        "import matplotlib.pyplot as plt\n",
        "plt.plot(h.history['mse'])\n",
        "plt.plot(h.history['val_mse'])\n",
        "plt.title('model mse')\n",
        "plt.ylabel('mse')\n",
        "plt.xlabel('epoch')\n",
        "plt.legend(['train', 'val'], loc='upper left')\n",
        "plt.show()\n",
        "\n",
        "# summarize history for loss\n",
        "plt.plot(h.history['loss'])\n",
        "plt.plot(h.history['val_loss'])\n",
        "plt.title('model loss')\n",
        "plt.ylabel('loss')\n",
        "plt.xlabel('epoch')\n",
        "plt.legend(['train', 'val'], loc='upper left')\n",
        "plt.show()"
      ]
    },
    {
      "cell_type": "code",
      "execution_count": 157,
      "metadata": {
        "id": "vm1hM7t1j4qI"
      },
      "outputs": [],
      "source": []
    },
    {
      "cell_type": "markdown",
      "metadata": {
        "id": "uEql0rAiH63q"
      },
      "source": [
        "# **Hyperparameter tuning**\n"
      ]
    },
    {
      "cell_type": "code",
      "execution_count": 158,
      "metadata": {
        "colab": {
          "base_uri": "https://localhost:8080/"
        },
        "id": "mGYgDdgzH-Sx",
        "outputId": "3ff58dd8-38e4-4cff-dbdf-d7dcbfbd164f"
      },
      "outputs": [
        {
          "output_type": "stream",
          "name": "stdout",
          "text": [
            "Requirement already satisfied: scikeras in /usr/local/lib/python3.10/dist-packages (0.12.0)\n",
            "Requirement already satisfied: packaging>=0.21 in /usr/local/lib/python3.10/dist-packages (from scikeras) (23.2)\n",
            "Requirement already satisfied: scikit-learn>=1.0.0 in /usr/local/lib/python3.10/dist-packages (from scikeras) (1.2.2)\n",
            "Requirement already satisfied: numpy>=1.17.3 in /usr/local/lib/python3.10/dist-packages (from scikit-learn>=1.0.0->scikeras) (1.23.5)\n",
            "Requirement already satisfied: scipy>=1.3.2 in /usr/local/lib/python3.10/dist-packages (from scikit-learn>=1.0.0->scikeras) (1.11.4)\n",
            "Requirement already satisfied: joblib>=1.1.1 in /usr/local/lib/python3.10/dist-packages (from scikit-learn>=1.0.0->scikeras) (1.3.2)\n",
            "Requirement already satisfied: threadpoolctl>=2.0.0 in /usr/local/lib/python3.10/dist-packages (from scikit-learn>=1.0.0->scikeras) (3.2.0)\n"
          ]
        }
      ],
      "source": [
        "!pip install scikeras"
      ]
    },
    {
      "cell_type": "code",
      "execution_count": 159,
      "metadata": {
        "id": "t0LEbU02H-PS"
      },
      "outputs": [],
      "source": [
        "# Importing the necessary packages\n",
        "from sklearn.model_selection import GridSearchCV, KFold\n",
        "from keras.models import Sequential\n",
        "from keras.layers import Dense\n",
        "from scikeras.wrappers import KerasClassifier,KerasRegressor\n",
        "#from keras.optimizers import Adam\n",
        "#from keras.optimizers import adam_v2\n",
        "from tensorflow.keras.optimizers import Adam"
      ]
    },
    {
      "cell_type": "code",
      "source": [
        "# Selecting first 500 records\n",
        "X = x.iloc[0:500,:]\n",
        "# Selecting first 500 records\n",
        "Y = y.iloc[0:500]"
      ],
      "metadata": {
        "id": "jRuSJt4cjcw3"
      },
      "execution_count": 160,
      "outputs": []
    },
    {
      "cell_type": "code",
      "execution_count": 161,
      "metadata": {
        "id": "doe5YGvsH-Lq"
      },
      "outputs": [],
      "source": [
        "#Turning Hyperparameter: Batch Size and epochs\n",
        "\n",
        "\n",
        "    # create model\n",
        "def create_model():\n",
        "    model = Sequential()\n",
        "    model.add(Dense(12, input_dim=3, kernel_initializer='uniform', activation='relu'))\n",
        "    model.add(Dense(8,kernel_initializer='uniform', activation='relu'))\n",
        "    model.add(Dense(1, kernel_initializer='uniform', activation='linear'))\n",
        "\n",
        "    model.compile(loss='mean_squared_error', optimizer='adam', metrics=['mae','mse'])\n",
        "    return model\n"
      ]
    },
    {
      "cell_type": "code",
      "execution_count": 163,
      "metadata": {
        "colab": {
          "base_uri": "https://localhost:8080/"
        },
        "id": "TyA6QSEXIG96",
        "outputId": "aa1a3ac4-75e8-44cc-c2fb-22df7d24552d"
      },
      "outputs": [
        {
          "output_type": "stream",
          "name": "stdout",
          "text": [
            "Fitting 5 folds for each of 9 candidates, totalling 45 fits\n",
            "[CV 1/5; 1/9] START batch_size=10, epochs=10....................................\n"
          ]
        },
        {
          "output_type": "stream",
          "name": "stderr",
          "text": [
            "/usr/local/lib/python3.10/dist-packages/scikeras/wrappers.py:915: UserWarning: ``build_fn`` will be renamed to ``model`` in a future release, at which point use of ``build_fn`` will raise an Error instead.\n",
            "  X, y = self._initialize(X, y)\n"
          ]
        },
        {
          "output_type": "stream",
          "name": "stdout",
          "text": [
            "[CV 1/5; 1/9] END ...batch_size=10, epochs=10;, score=-79.883 total time=   3.0s\n",
            "[CV 2/5; 1/9] START batch_size=10, epochs=10....................................\n"
          ]
        },
        {
          "output_type": "stream",
          "name": "stderr",
          "text": [
            "/usr/local/lib/python3.10/dist-packages/scikeras/wrappers.py:915: UserWarning: ``build_fn`` will be renamed to ``model`` in a future release, at which point use of ``build_fn`` will raise an Error instead.\n",
            "  X, y = self._initialize(X, y)\n"
          ]
        },
        {
          "output_type": "stream",
          "name": "stdout",
          "text": [
            "[CV 2/5; 1/9] END ..batch_size=10, epochs=10;, score=-482.904 total time=   3.4s\n",
            "[CV 3/5; 1/9] START batch_size=10, epochs=10....................................\n"
          ]
        },
        {
          "output_type": "stream",
          "name": "stderr",
          "text": [
            "/usr/local/lib/python3.10/dist-packages/scikeras/wrappers.py:915: UserWarning: ``build_fn`` will be renamed to ``model`` in a future release, at which point use of ``build_fn`` will raise an Error instead.\n",
            "  X, y = self._initialize(X, y)\n"
          ]
        },
        {
          "output_type": "stream",
          "name": "stdout",
          "text": [
            "[CV 3/5; 1/9] END ...batch_size=10, epochs=10;, score=-40.576 total time=   3.3s\n",
            "[CV 4/5; 1/9] START batch_size=10, epochs=10....................................\n"
          ]
        },
        {
          "output_type": "stream",
          "name": "stderr",
          "text": [
            "/usr/local/lib/python3.10/dist-packages/scikeras/wrappers.py:915: UserWarning: ``build_fn`` will be renamed to ``model`` in a future release, at which point use of ``build_fn`` will raise an Error instead.\n",
            "  X, y = self._initialize(X, y)\n"
          ]
        },
        {
          "output_type": "stream",
          "name": "stdout",
          "text": [
            "[CV 4/5; 1/9] END ...batch_size=10, epochs=10;, score=-35.473 total time=   6.2s\n",
            "[CV 5/5; 1/9] START batch_size=10, epochs=10....................................\n"
          ]
        },
        {
          "output_type": "stream",
          "name": "stderr",
          "text": [
            "/usr/local/lib/python3.10/dist-packages/scikeras/wrappers.py:915: UserWarning: ``build_fn`` will be renamed to ``model`` in a future release, at which point use of ``build_fn`` will raise an Error instead.\n",
            "  X, y = self._initialize(X, y)\n"
          ]
        },
        {
          "output_type": "stream",
          "name": "stdout",
          "text": [
            "[CV 5/5; 1/9] END ...batch_size=10, epochs=10;, score=-30.905 total time=   2.7s\n",
            "[CV 1/5; 2/9] START batch_size=10, epochs=50....................................\n"
          ]
        },
        {
          "output_type": "stream",
          "name": "stderr",
          "text": [
            "/usr/local/lib/python3.10/dist-packages/scikeras/wrappers.py:915: UserWarning: ``build_fn`` will be renamed to ``model`` in a future release, at which point use of ``build_fn`` will raise an Error instead.\n",
            "  X, y = self._initialize(X, y)\n"
          ]
        },
        {
          "output_type": "stream",
          "name": "stdout",
          "text": [
            "[CV 1/5; 2/9] END ....batch_size=10, epochs=50;, score=-3.563 total time=   5.2s\n",
            "[CV 2/5; 2/9] START batch_size=10, epochs=50....................................\n"
          ]
        },
        {
          "output_type": "stream",
          "name": "stderr",
          "text": [
            "/usr/local/lib/python3.10/dist-packages/scikeras/wrappers.py:915: UserWarning: ``build_fn`` will be renamed to ``model`` in a future release, at which point use of ``build_fn`` will raise an Error instead.\n",
            "  X, y = self._initialize(X, y)\n"
          ]
        },
        {
          "output_type": "stream",
          "name": "stdout",
          "text": [
            "[CV 2/5; 2/9] END ...batch_size=10, epochs=50;, score=-19.559 total time=   6.3s\n",
            "[CV 3/5; 2/9] START batch_size=10, epochs=50....................................\n"
          ]
        },
        {
          "output_type": "stream",
          "name": "stderr",
          "text": [
            "/usr/local/lib/python3.10/dist-packages/scikeras/wrappers.py:915: UserWarning: ``build_fn`` will be renamed to ``model`` in a future release, at which point use of ``build_fn`` will raise an Error instead.\n",
            "  X, y = self._initialize(X, y)\n"
          ]
        },
        {
          "output_type": "stream",
          "name": "stdout",
          "text": [
            "[CV 3/5; 2/9] END ....batch_size=10, epochs=50;, score=-1.392 total time=   6.0s\n",
            "[CV 4/5; 2/9] START batch_size=10, epochs=50....................................\n"
          ]
        },
        {
          "output_type": "stream",
          "name": "stderr",
          "text": [
            "/usr/local/lib/python3.10/dist-packages/scikeras/wrappers.py:915: UserWarning: ``build_fn`` will be renamed to ``model`` in a future release, at which point use of ``build_fn`` will raise an Error instead.\n",
            "  X, y = self._initialize(X, y)\n"
          ]
        },
        {
          "output_type": "stream",
          "name": "stdout",
          "text": [
            "[CV 4/5; 2/9] END ....batch_size=10, epochs=50;, score=-1.046 total time=  11.9s\n",
            "[CV 5/5; 2/9] START batch_size=10, epochs=50....................................\n"
          ]
        },
        {
          "output_type": "stream",
          "name": "stderr",
          "text": [
            "/usr/local/lib/python3.10/dist-packages/scikeras/wrappers.py:915: UserWarning: ``build_fn`` will be renamed to ``model`` in a future release, at which point use of ``build_fn`` will raise an Error instead.\n",
            "  X, y = self._initialize(X, y)\n"
          ]
        },
        {
          "output_type": "stream",
          "name": "stdout",
          "text": [
            "[CV 5/5; 2/9] END ....batch_size=10, epochs=50;, score=-0.553 total time=   4.0s\n",
            "[CV 1/5; 3/9] START batch_size=10, epochs=100...................................\n"
          ]
        },
        {
          "output_type": "stream",
          "name": "stderr",
          "text": [
            "/usr/local/lib/python3.10/dist-packages/scikeras/wrappers.py:915: UserWarning: ``build_fn`` will be renamed to ``model`` in a future release, at which point use of ``build_fn`` will raise an Error instead.\n",
            "  X, y = self._initialize(X, y)\n"
          ]
        },
        {
          "output_type": "stream",
          "name": "stdout",
          "text": [
            "[CV 1/5; 3/9] END ...batch_size=10, epochs=100;, score=-1.126 total time=  11.4s\n",
            "[CV 2/5; 3/9] START batch_size=10, epochs=100...................................\n"
          ]
        },
        {
          "output_type": "stream",
          "name": "stderr",
          "text": [
            "/usr/local/lib/python3.10/dist-packages/scikeras/wrappers.py:915: UserWarning: ``build_fn`` will be renamed to ``model`` in a future release, at which point use of ``build_fn`` will raise an Error instead.\n",
            "  X, y = self._initialize(X, y)\n"
          ]
        },
        {
          "output_type": "stream",
          "name": "stdout",
          "text": [
            "[CV 2/5; 3/9] END ...batch_size=10, epochs=100;, score=-3.461 total time=  11.3s\n",
            "[CV 3/5; 3/9] START batch_size=10, epochs=100...................................\n"
          ]
        },
        {
          "output_type": "stream",
          "name": "stderr",
          "text": [
            "/usr/local/lib/python3.10/dist-packages/scikeras/wrappers.py:915: UserWarning: ``build_fn`` will be renamed to ``model`` in a future release, at which point use of ``build_fn`` will raise an Error instead.\n",
            "  X, y = self._initialize(X, y)\n"
          ]
        },
        {
          "output_type": "stream",
          "name": "stdout",
          "text": [
            "[CV 3/5; 3/9] END ...batch_size=10, epochs=100;, score=-0.511 total time=  10.2s\n",
            "[CV 4/5; 3/9] START batch_size=10, epochs=100...................................\n"
          ]
        },
        {
          "output_type": "stream",
          "name": "stderr",
          "text": [
            "/usr/local/lib/python3.10/dist-packages/scikeras/wrappers.py:915: UserWarning: ``build_fn`` will be renamed to ``model`` in a future release, at which point use of ``build_fn`` will raise an Error instead.\n",
            "  X, y = self._initialize(X, y)\n"
          ]
        },
        {
          "output_type": "stream",
          "name": "stdout",
          "text": [
            "[CV 4/5; 3/9] END ...batch_size=10, epochs=100;, score=-0.339 total time=   8.8s\n",
            "[CV 5/5; 3/9] START batch_size=10, epochs=100...................................\n"
          ]
        },
        {
          "output_type": "stream",
          "name": "stderr",
          "text": [
            "/usr/local/lib/python3.10/dist-packages/scikeras/wrappers.py:915: UserWarning: ``build_fn`` will be renamed to ``model`` in a future release, at which point use of ``build_fn`` will raise an Error instead.\n",
            "  X, y = self._initialize(X, y)\n"
          ]
        },
        {
          "output_type": "stream",
          "name": "stdout",
          "text": [
            "[CV 5/5; 3/9] END ...batch_size=10, epochs=100;, score=-0.119 total time=  21.5s\n",
            "[CV 1/5; 4/9] START batch_size=20, epochs=10....................................\n"
          ]
        },
        {
          "output_type": "stream",
          "name": "stderr",
          "text": [
            "/usr/local/lib/python3.10/dist-packages/scikeras/wrappers.py:915: UserWarning: ``build_fn`` will be renamed to ``model`` in a future release, at which point use of ``build_fn`` will raise an Error instead.\n",
            "  X, y = self._initialize(X, y)\n"
          ]
        },
        {
          "output_type": "stream",
          "name": "stdout",
          "text": [
            "[CV 1/5; 4/9] END ..batch_size=20, epochs=10;, score=-193.810 total time=   1.5s\n",
            "[CV 2/5; 4/9] START batch_size=20, epochs=10....................................\n"
          ]
        },
        {
          "output_type": "stream",
          "name": "stderr",
          "text": [
            "/usr/local/lib/python3.10/dist-packages/scikeras/wrappers.py:915: UserWarning: ``build_fn`` will be renamed to ``model`` in a future release, at which point use of ``build_fn`` will raise an Error instead.\n",
            "  X, y = self._initialize(X, y)\n"
          ]
        },
        {
          "output_type": "stream",
          "name": "stdout",
          "text": [
            "[CV 2/5; 4/9] END ..batch_size=20, epochs=10;, score=-560.438 total time=   1.5s\n",
            "[CV 3/5; 4/9] START batch_size=20, epochs=10....................................\n"
          ]
        },
        {
          "output_type": "stream",
          "name": "stderr",
          "text": [
            "/usr/local/lib/python3.10/dist-packages/scikeras/wrappers.py:915: UserWarning: ``build_fn`` will be renamed to ``model`` in a future release, at which point use of ``build_fn`` will raise an Error instead.\n",
            "  X, y = self._initialize(X, y)\n"
          ]
        },
        {
          "output_type": "stream",
          "name": "stdout",
          "text": [
            "[CV 3/5; 4/9] END ...batch_size=20, epochs=10;, score=-85.344 total time=   1.5s\n",
            "[CV 4/5; 4/9] START batch_size=20, epochs=10....................................\n"
          ]
        },
        {
          "output_type": "stream",
          "name": "stderr",
          "text": [
            "/usr/local/lib/python3.10/dist-packages/scikeras/wrappers.py:915: UserWarning: ``build_fn`` will be renamed to ``model`` in a future release, at which point use of ``build_fn`` will raise an Error instead.\n",
            "  X, y = self._initialize(X, y)\n"
          ]
        },
        {
          "output_type": "stream",
          "name": "stdout",
          "text": [
            "[CV 4/5; 4/9] END ...batch_size=20, epochs=10;, score=-56.701 total time=   1.2s\n",
            "[CV 5/5; 4/9] START batch_size=20, epochs=10....................................\n"
          ]
        },
        {
          "output_type": "stream",
          "name": "stderr",
          "text": [
            "/usr/local/lib/python3.10/dist-packages/scikeras/wrappers.py:915: UserWarning: ``build_fn`` will be renamed to ``model`` in a future release, at which point use of ``build_fn`` will raise an Error instead.\n",
            "  X, y = self._initialize(X, y)\n"
          ]
        },
        {
          "output_type": "stream",
          "name": "stdout",
          "text": [
            "[CV 5/5; 4/9] END ...batch_size=20, epochs=10;, score=-81.286 total time=   1.2s\n",
            "[CV 1/5; 5/9] START batch_size=20, epochs=50....................................\n"
          ]
        },
        {
          "output_type": "stream",
          "name": "stderr",
          "text": [
            "/usr/local/lib/python3.10/dist-packages/scikeras/wrappers.py:915: UserWarning: ``build_fn`` will be renamed to ``model`` in a future release, at which point use of ``build_fn`` will raise an Error instead.\n",
            "  X, y = self._initialize(X, y)\n"
          ]
        },
        {
          "output_type": "stream",
          "name": "stdout",
          "text": [
            "[CV 1/5; 5/9] END ....batch_size=20, epochs=50;, score=-5.039 total time=   3.4s\n",
            "[CV 2/5; 5/9] START batch_size=20, epochs=50....................................\n"
          ]
        },
        {
          "output_type": "stream",
          "name": "stderr",
          "text": [
            "/usr/local/lib/python3.10/dist-packages/scikeras/wrappers.py:915: UserWarning: ``build_fn`` will be renamed to ``model`` in a future release, at which point use of ``build_fn`` will raise an Error instead.\n",
            "  X, y = self._initialize(X, y)\n"
          ]
        },
        {
          "output_type": "stream",
          "name": "stdout",
          "text": [
            "[CV 2/5; 5/9] END ..batch_size=20, epochs=50;, score=-131.559 total time=   3.1s\n",
            "[CV 3/5; 5/9] START batch_size=20, epochs=50....................................\n"
          ]
        },
        {
          "output_type": "stream",
          "name": "stderr",
          "text": [
            "/usr/local/lib/python3.10/dist-packages/scikeras/wrappers.py:915: UserWarning: ``build_fn`` will be renamed to ``model`` in a future release, at which point use of ``build_fn`` will raise an Error instead.\n",
            "  X, y = self._initialize(X, y)\n"
          ]
        },
        {
          "output_type": "stream",
          "name": "stdout",
          "text": [
            "[CV 3/5; 5/9] END ....batch_size=20, epochs=50;, score=-4.191 total time=   2.5s\n",
            "[CV 4/5; 5/9] START batch_size=20, epochs=50....................................\n"
          ]
        },
        {
          "output_type": "stream",
          "name": "stderr",
          "text": [
            "/usr/local/lib/python3.10/dist-packages/scikeras/wrappers.py:915: UserWarning: ``build_fn`` will be renamed to ``model`` in a future release, at which point use of ``build_fn`` will raise an Error instead.\n",
            "  X, y = self._initialize(X, y)\n"
          ]
        },
        {
          "output_type": "stream",
          "name": "stdout",
          "text": [
            "[CV 4/5; 5/9] END ....batch_size=20, epochs=50;, score=-3.213 total time=   2.5s\n",
            "[CV 5/5; 5/9] START batch_size=20, epochs=50....................................\n"
          ]
        },
        {
          "output_type": "stream",
          "name": "stderr",
          "text": [
            "/usr/local/lib/python3.10/dist-packages/scikeras/wrappers.py:915: UserWarning: ``build_fn`` will be renamed to ``model`` in a future release, at which point use of ``build_fn`` will raise an Error instead.\n",
            "  X, y = self._initialize(X, y)\n"
          ]
        },
        {
          "output_type": "stream",
          "name": "stdout",
          "text": [
            "[CV 5/5; 5/9] END ....batch_size=20, epochs=50;, score=-0.642 total time=   6.0s\n",
            "[CV 1/5; 6/9] START batch_size=20, epochs=100...................................\n"
          ]
        },
        {
          "output_type": "stream",
          "name": "stderr",
          "text": [
            "/usr/local/lib/python3.10/dist-packages/scikeras/wrappers.py:915: UserWarning: ``build_fn`` will be renamed to ``model`` in a future release, at which point use of ``build_fn`` will raise an Error instead.\n",
            "  X, y = self._initialize(X, y)\n"
          ]
        },
        {
          "output_type": "stream",
          "name": "stdout",
          "text": [
            "[CV 1/5; 6/9] END ...batch_size=20, epochs=100;, score=-3.422 total time=   7.1s\n",
            "[CV 2/5; 6/9] START batch_size=20, epochs=100...................................\n"
          ]
        },
        {
          "output_type": "stream",
          "name": "stderr",
          "text": [
            "/usr/local/lib/python3.10/dist-packages/scikeras/wrappers.py:915: UserWarning: ``build_fn`` will be renamed to ``model`` in a future release, at which point use of ``build_fn`` will raise an Error instead.\n",
            "  X, y = self._initialize(X, y)\n"
          ]
        },
        {
          "output_type": "stream",
          "name": "stdout",
          "text": [
            "[CV 2/5; 6/9] END ..batch_size=20, epochs=100;, score=-18.017 total time=   4.2s\n",
            "[CV 3/5; 6/9] START batch_size=20, epochs=100...................................\n"
          ]
        },
        {
          "output_type": "stream",
          "name": "stderr",
          "text": [
            "/usr/local/lib/python3.10/dist-packages/scikeras/wrappers.py:915: UserWarning: ``build_fn`` will be renamed to ``model`` in a future release, at which point use of ``build_fn`` will raise an Error instead.\n",
            "  X, y = self._initialize(X, y)\n"
          ]
        },
        {
          "output_type": "stream",
          "name": "stdout",
          "text": [
            "[CV 3/5; 6/9] END ...batch_size=20, epochs=100;, score=-1.407 total time=   5.1s\n",
            "[CV 4/5; 6/9] START batch_size=20, epochs=100...................................\n"
          ]
        },
        {
          "output_type": "stream",
          "name": "stderr",
          "text": [
            "/usr/local/lib/python3.10/dist-packages/scikeras/wrappers.py:915: UserWarning: ``build_fn`` will be renamed to ``model`` in a future release, at which point use of ``build_fn`` will raise an Error instead.\n",
            "  X, y = self._initialize(X, y)\n"
          ]
        },
        {
          "output_type": "stream",
          "name": "stdout",
          "text": [
            "[CV 4/5; 6/9] END ...batch_size=20, epochs=100;, score=-0.935 total time=   5.9s\n",
            "[CV 5/5; 6/9] START batch_size=20, epochs=100...................................\n"
          ]
        },
        {
          "output_type": "stream",
          "name": "stderr",
          "text": [
            "/usr/local/lib/python3.10/dist-packages/scikeras/wrappers.py:915: UserWarning: ``build_fn`` will be renamed to ``model`` in a future release, at which point use of ``build_fn`` will raise an Error instead.\n",
            "  X, y = self._initialize(X, y)\n"
          ]
        },
        {
          "output_type": "stream",
          "name": "stdout",
          "text": [
            "[CV 5/5; 6/9] END ...batch_size=20, epochs=100;, score=-0.620 total time=   7.9s\n",
            "[CV 1/5; 7/9] START batch_size=40, epochs=10....................................\n"
          ]
        },
        {
          "output_type": "stream",
          "name": "stderr",
          "text": [
            "/usr/local/lib/python3.10/dist-packages/scikeras/wrappers.py:915: UserWarning: ``build_fn`` will be renamed to ``model`` in a future release, at which point use of ``build_fn`` will raise an Error instead.\n",
            "  X, y = self._initialize(X, y)\n"
          ]
        },
        {
          "output_type": "stream",
          "name": "stdout",
          "text": [
            "[CV 1/5; 7/9] END ..batch_size=40, epochs=10;, score=-212.960 total time=   1.4s\n",
            "[CV 2/5; 7/9] START batch_size=40, epochs=10....................................\n"
          ]
        },
        {
          "output_type": "stream",
          "name": "stderr",
          "text": [
            "/usr/local/lib/python3.10/dist-packages/scikeras/wrappers.py:915: UserWarning: ``build_fn`` will be renamed to ``model`` in a future release, at which point use of ``build_fn`` will raise an Error instead.\n",
            "  X, y = self._initialize(X, y)\n"
          ]
        },
        {
          "output_type": "stream",
          "name": "stdout",
          "text": [
            "[CV 2/5; 7/9] END ..batch_size=40, epochs=10;, score=-584.899 total time=   1.5s\n",
            "[CV 3/5; 7/9] START batch_size=40, epochs=10....................................\n"
          ]
        },
        {
          "output_type": "stream",
          "name": "stderr",
          "text": [
            "/usr/local/lib/python3.10/dist-packages/scikeras/wrappers.py:915: UserWarning: ``build_fn`` will be renamed to ``model`` in a future release, at which point use of ``build_fn`` will raise an Error instead.\n",
            "  X, y = self._initialize(X, y)\n"
          ]
        },
        {
          "output_type": "stream",
          "name": "stdout",
          "text": [
            "[CV 3/5; 7/9] END ...batch_size=40, epochs=10;, score=-92.600 total time=   4.0s\n",
            "[CV 4/5; 7/9] START batch_size=40, epochs=10....................................\n"
          ]
        },
        {
          "output_type": "stream",
          "name": "stderr",
          "text": [
            "/usr/local/lib/python3.10/dist-packages/scikeras/wrappers.py:915: UserWarning: ``build_fn`` will be renamed to ``model`` in a future release, at which point use of ``build_fn`` will raise an Error instead.\n",
            "  X, y = self._initialize(X, y)\n"
          ]
        },
        {
          "output_type": "stream",
          "name": "stdout",
          "text": [
            "[CV 4/5; 7/9] END ...batch_size=40, epochs=10;, score=-62.434 total time=   1.6s\n",
            "[CV 5/5; 7/9] START batch_size=40, epochs=10....................................\n"
          ]
        },
        {
          "output_type": "stream",
          "name": "stderr",
          "text": [
            "/usr/local/lib/python3.10/dist-packages/scikeras/wrappers.py:915: UserWarning: ``build_fn`` will be renamed to ``model`` in a future release, at which point use of ``build_fn`` will raise an Error instead.\n",
            "  X, y = self._initialize(X, y)\n"
          ]
        },
        {
          "output_type": "stream",
          "name": "stdout",
          "text": [
            "[CV 5/5; 7/9] END ...batch_size=40, epochs=10;, score=-85.676 total time=   2.4s\n",
            "[CV 1/5; 8/9] START batch_size=40, epochs=50....................................\n"
          ]
        },
        {
          "output_type": "stream",
          "name": "stderr",
          "text": [
            "/usr/local/lib/python3.10/dist-packages/scikeras/wrappers.py:915: UserWarning: ``build_fn`` will be renamed to ``model`` in a future release, at which point use of ``build_fn`` will raise an Error instead.\n",
            "  X, y = self._initialize(X, y)\n"
          ]
        },
        {
          "output_type": "stream",
          "name": "stdout",
          "text": [
            "[CV 1/5; 8/9] END ..batch_size=40, epochs=50;, score=-148.314 total time=   4.3s\n",
            "[CV 2/5; 8/9] START batch_size=40, epochs=50....................................\n"
          ]
        },
        {
          "output_type": "stream",
          "name": "stderr",
          "text": [
            "/usr/local/lib/python3.10/dist-packages/scikeras/wrappers.py:915: UserWarning: ``build_fn`` will be renamed to ``model`` in a future release, at which point use of ``build_fn`` will raise an Error instead.\n",
            "  X, y = self._initialize(X, y)\n"
          ]
        },
        {
          "output_type": "stream",
          "name": "stdout",
          "text": [
            "[CV 2/5; 8/9] END ..batch_size=40, epochs=50;, score=-369.811 total time=   3.6s\n",
            "[CV 3/5; 8/9] START batch_size=40, epochs=50....................................\n"
          ]
        },
        {
          "output_type": "stream",
          "name": "stderr",
          "text": [
            "/usr/local/lib/python3.10/dist-packages/scikeras/wrappers.py:915: UserWarning: ``build_fn`` will be renamed to ``model`` in a future release, at which point use of ``build_fn`` will raise an Error instead.\n",
            "  X, y = self._initialize(X, y)\n"
          ]
        },
        {
          "output_type": "stream",
          "name": "stdout",
          "text": [
            "[CV 3/5; 8/9] END ...batch_size=40, epochs=50;, score=-17.343 total time=   1.9s\n",
            "[CV 4/5; 8/9] START batch_size=40, epochs=50....................................\n"
          ]
        },
        {
          "output_type": "stream",
          "name": "stderr",
          "text": [
            "/usr/local/lib/python3.10/dist-packages/scikeras/wrappers.py:915: UserWarning: ``build_fn`` will be renamed to ``model`` in a future release, at which point use of ``build_fn`` will raise an Error instead.\n",
            "  X, y = self._initialize(X, y)\n"
          ]
        },
        {
          "output_type": "stream",
          "name": "stdout",
          "text": [
            "[CV 4/5; 8/9] END ...batch_size=40, epochs=50;, score=-16.012 total time=   2.2s\n",
            "[CV 5/5; 8/9] START batch_size=40, epochs=50....................................\n"
          ]
        },
        {
          "output_type": "stream",
          "name": "stderr",
          "text": [
            "/usr/local/lib/python3.10/dist-packages/scikeras/wrappers.py:915: UserWarning: ``build_fn`` will be renamed to ``model`` in a future release, at which point use of ``build_fn`` will raise an Error instead.\n",
            "  X, y = self._initialize(X, y)\n"
          ]
        },
        {
          "output_type": "stream",
          "name": "stdout",
          "text": [
            "[CV 5/5; 8/9] END ....batch_size=40, epochs=50;, score=-8.004 total time=   3.9s\n",
            "[CV 1/5; 9/9] START batch_size=40, epochs=100...................................\n"
          ]
        },
        {
          "output_type": "stream",
          "name": "stderr",
          "text": [
            "/usr/local/lib/python3.10/dist-packages/scikeras/wrappers.py:915: UserWarning: ``build_fn`` will be renamed to ``model`` in a future release, at which point use of ``build_fn`` will raise an Error instead.\n",
            "  X, y = self._initialize(X, y)\n"
          ]
        },
        {
          "output_type": "stream",
          "name": "stdout",
          "text": [
            "[CV 1/5; 9/9] END ..batch_size=40, epochs=100;, score=-12.292 total time=   4.1s\n",
            "[CV 2/5; 9/9] START batch_size=40, epochs=100...................................\n"
          ]
        },
        {
          "output_type": "stream",
          "name": "stderr",
          "text": [
            "/usr/local/lib/python3.10/dist-packages/scikeras/wrappers.py:915: UserWarning: ``build_fn`` will be renamed to ``model`` in a future release, at which point use of ``build_fn`` will raise an Error instead.\n",
            "  X, y = self._initialize(X, y)\n"
          ]
        },
        {
          "output_type": "stream",
          "name": "stdout",
          "text": [
            "[CV 2/5; 9/9] END .batch_size=40, epochs=100;, score=-167.155 total time=   3.2s\n",
            "[CV 3/5; 9/9] START batch_size=40, epochs=100...................................\n"
          ]
        },
        {
          "output_type": "stream",
          "name": "stderr",
          "text": [
            "/usr/local/lib/python3.10/dist-packages/scikeras/wrappers.py:915: UserWarning: ``build_fn`` will be renamed to ``model`` in a future release, at which point use of ``build_fn`` will raise an Error instead.\n",
            "  X, y = self._initialize(X, y)\n"
          ]
        },
        {
          "output_type": "stream",
          "name": "stdout",
          "text": [
            "[CV 3/5; 9/9] END ...batch_size=40, epochs=100;, score=-3.649 total time=   3.5s\n",
            "[CV 4/5; 9/9] START batch_size=40, epochs=100...................................\n"
          ]
        },
        {
          "output_type": "stream",
          "name": "stderr",
          "text": [
            "/usr/local/lib/python3.10/dist-packages/scikeras/wrappers.py:915: UserWarning: ``build_fn`` will be renamed to ``model`` in a future release, at which point use of ``build_fn`` will raise an Error instead.\n",
            "  X, y = self._initialize(X, y)\n"
          ]
        },
        {
          "output_type": "stream",
          "name": "stdout",
          "text": [
            "[CV 4/5; 9/9] END ...batch_size=40, epochs=100;, score=-6.365 total time=   3.9s\n",
            "[CV 5/5; 9/9] START batch_size=40, epochs=100...................................\n"
          ]
        },
        {
          "output_type": "stream",
          "name": "stderr",
          "text": [
            "/usr/local/lib/python3.10/dist-packages/scikeras/wrappers.py:915: UserWarning: ``build_fn`` will be renamed to ``model`` in a future release, at which point use of ``build_fn`` will raise an Error instead.\n",
            "  X, y = self._initialize(X, y)\n"
          ]
        },
        {
          "output_type": "stream",
          "name": "stdout",
          "text": [
            "[CV 5/5; 9/9] END ...batch_size=40, epochs=100;, score=-1.074 total time=   2.8s\n"
          ]
        },
        {
          "output_type": "stream",
          "name": "stderr",
          "text": [
            "/usr/local/lib/python3.10/dist-packages/scikeras/wrappers.py:915: UserWarning: ``build_fn`` will be renamed to ``model`` in a future release, at which point use of ``build_fn`` will raise an Error instead.\n",
            "  X, y = self._initialize(X, y)\n"
          ]
        },
        {
          "output_type": "stream",
          "name": "stdout",
          "text": [
            "Best : -1.1111333499122447, using {'batch_size': 10, 'epochs': 100}\n"
          ]
        }
      ],
      "source": [
        "# Create the model\n",
        "model = KerasRegressor(build_fn = create_model,verbose = 0)\n",
        "# Define the grid search parameters\n",
        "batch_size = [10,20,40]\n",
        "epochs = [10,50,100]\n",
        "\n",
        "# Make a dictionary of the grid search parameters\n",
        "param_grid = dict(batch_size = batch_size,epochs = epochs)\n",
        "# Build and fit the GridSearchCV\n",
        "grid = GridSearchCV(estimator = model,param_grid = param_grid,cv = KFold(),verbose = 10)\n",
        "grid_result = grid.fit(X,Y)\n",
        "# Summarize the results\n",
        "print('Best : {}, using {}'.format(grid_result.best_score_,grid_result.best_params_))"
      ]
    },
    {
      "cell_type": "markdown",
      "source": [
        "# Best : -1.1111333499122447, using {'batch_size': 10, 'epochs': 100}"
      ],
      "metadata": {
        "id": "cVmnI-iolQuZ"
      }
    },
    {
      "cell_type": "markdown",
      "metadata": {
        "id": "dX2SiIjAry1s"
      },
      "source": [
        "# **Model Building using Hypertuning parameter**"
      ]
    },
    {
      "cell_type": "code",
      "execution_count": 165,
      "metadata": {
        "id": "gcw-4yAOSaiT"
      },
      "outputs": [],
      "source": [
        "# create model\n",
        "model = Sequential()\n",
        "model.add(Dense(10, input_dim=3, kernel_initializer='uniform', activation='linear')) #1st layer\n",
        "model.add(Dense(8, kernel_initializer='uniform',  activation='linear')) #2nd layer\n",
        "model.add(Dense(1, kernel_initializer='uniform', activation='linear')) #output layer"
      ]
    },
    {
      "cell_type": "code",
      "execution_count": 166,
      "metadata": {
        "id": "tlcr-58jsTxK"
      },
      "outputs": [],
      "source": [
        "# Compile model\n",
        "model.compile(loss='mean_squared_error', optimizer='adam', metrics=['mse'])"
      ]
    },
    {
      "cell_type": "code",
      "execution_count": 167,
      "metadata": {
        "colab": {
          "base_uri": "https://localhost:8080/"
        },
        "id": "IfIinpc4slt-",
        "outputId": "4e7dd048-9f5e-401f-dc30-12e2f3d62436"
      },
      "outputs": [
        {
          "output_type": "stream",
          "name": "stdout",
          "text": [
            "Epoch 1/100\n",
            "843/843 [==============================] - 3s 2ms/step - loss: 9018.1797 - mse: 9018.1797 - val_loss: 228.9292 - val_mse: 228.9292\n",
            "Epoch 2/100\n",
            "843/843 [==============================] - 3s 3ms/step - loss: 220.7740 - mse: 220.7740 - val_loss: 221.8577 - val_mse: 221.8577\n",
            "Epoch 3/100\n",
            "843/843 [==============================] - 2s 3ms/step - loss: 220.7415 - mse: 220.7415 - val_loss: 220.7329 - val_mse: 220.7329\n",
            "Epoch 4/100\n",
            "843/843 [==============================] - 2s 2ms/step - loss: 220.9066 - mse: 220.9066 - val_loss: 224.0288 - val_mse: 224.0288\n",
            "Epoch 5/100\n",
            "843/843 [==============================] - 2s 2ms/step - loss: 220.9195 - mse: 220.9195 - val_loss: 222.1508 - val_mse: 222.1508\n",
            "Epoch 6/100\n",
            "843/843 [==============================] - 2s 2ms/step - loss: 220.7434 - mse: 220.7434 - val_loss: 222.3372 - val_mse: 222.3372\n",
            "Epoch 7/100\n",
            "843/843 [==============================] - 2s 2ms/step - loss: 221.0713 - mse: 221.0713 - val_loss: 222.2791 - val_mse: 222.2791\n",
            "Epoch 8/100\n",
            "843/843 [==============================] - 2s 2ms/step - loss: 221.3059 - mse: 221.3059 - val_loss: 221.3713 - val_mse: 221.3713\n",
            "Epoch 9/100\n",
            "843/843 [==============================] - 3s 3ms/step - loss: 221.3939 - mse: 221.3939 - val_loss: 222.5257 - val_mse: 222.5257\n",
            "Epoch 10/100\n",
            "843/843 [==============================] - 2s 3ms/step - loss: 220.6322 - mse: 220.6322 - val_loss: 222.0700 - val_mse: 222.0700\n",
            "Epoch 11/100\n",
            "843/843 [==============================] - 2s 3ms/step - loss: 221.1290 - mse: 221.1290 - val_loss: 224.5032 - val_mse: 224.5032\n",
            "Epoch 12/100\n",
            "843/843 [==============================] - 2s 3ms/step - loss: 221.3762 - mse: 221.3762 - val_loss: 222.0505 - val_mse: 222.0505\n",
            "Epoch 13/100\n",
            "843/843 [==============================] - 2s 2ms/step - loss: 221.0897 - mse: 221.0897 - val_loss: 223.6400 - val_mse: 223.6400\n",
            "Epoch 14/100\n",
            "843/843 [==============================] - 2s 2ms/step - loss: 221.2695 - mse: 221.2695 - val_loss: 222.3822 - val_mse: 222.3822\n",
            "Epoch 15/100\n",
            "843/843 [==============================] - 2s 3ms/step - loss: 221.1018 - mse: 221.1018 - val_loss: 221.6071 - val_mse: 221.6071\n",
            "Epoch 16/100\n",
            "843/843 [==============================] - 3s 3ms/step - loss: 221.1461 - mse: 221.1461 - val_loss: 221.0903 - val_mse: 221.0903\n",
            "Epoch 17/100\n",
            "843/843 [==============================] - 2s 2ms/step - loss: 221.6513 - mse: 221.6513 - val_loss: 222.1273 - val_mse: 222.1273\n",
            "Epoch 18/100\n",
            "843/843 [==============================] - 2s 2ms/step - loss: 221.1524 - mse: 221.1524 - val_loss: 223.5079 - val_mse: 223.5079\n",
            "Epoch 19/100\n",
            "843/843 [==============================] - 2s 2ms/step - loss: 221.2783 - mse: 221.2783 - val_loss: 222.2547 - val_mse: 222.2547\n",
            "Epoch 20/100\n",
            "843/843 [==============================] - 2s 2ms/step - loss: 220.9690 - mse: 220.9690 - val_loss: 222.2497 - val_mse: 222.2497\n",
            "Epoch 21/100\n",
            "843/843 [==============================] - 2s 2ms/step - loss: 221.2005 - mse: 221.2005 - val_loss: 226.0145 - val_mse: 226.0145\n",
            "Epoch 22/100\n",
            "843/843 [==============================] - 3s 3ms/step - loss: 221.1786 - mse: 221.1786 - val_loss: 228.9914 - val_mse: 228.9914\n",
            "Epoch 23/100\n",
            "843/843 [==============================] - 3s 3ms/step - loss: 221.4182 - mse: 221.4182 - val_loss: 222.0128 - val_mse: 222.0128\n",
            "Epoch 24/100\n",
            "843/843 [==============================] - 2s 2ms/step - loss: 221.6046 - mse: 221.6046 - val_loss: 222.5406 - val_mse: 222.5406\n",
            "Epoch 25/100\n",
            "843/843 [==============================] - 2s 2ms/step - loss: 221.3454 - mse: 221.3454 - val_loss: 221.3689 - val_mse: 221.3689\n",
            "Epoch 26/100\n",
            "843/843 [==============================] - 2s 2ms/step - loss: 221.1946 - mse: 221.1946 - val_loss: 222.8375 - val_mse: 222.8375\n",
            "Epoch 27/100\n",
            "843/843 [==============================] - 2s 2ms/step - loss: 220.9206 - mse: 220.9206 - val_loss: 221.9032 - val_mse: 221.9032\n",
            "Epoch 28/100\n",
            "843/843 [==============================] - 2s 2ms/step - loss: 221.4578 - mse: 221.4578 - val_loss: 221.3048 - val_mse: 221.3048\n",
            "Epoch 29/100\n",
            "843/843 [==============================] - 3s 3ms/step - loss: 221.0805 - mse: 221.0805 - val_loss: 221.0001 - val_mse: 221.0001\n",
            "Epoch 30/100\n",
            "843/843 [==============================] - 2s 3ms/step - loss: 220.8271 - mse: 220.8271 - val_loss: 221.8641 - val_mse: 221.8641\n",
            "Epoch 31/100\n",
            "843/843 [==============================] - 2s 2ms/step - loss: 221.3024 - mse: 221.3024 - val_loss: 223.9064 - val_mse: 223.9064\n",
            "Epoch 32/100\n",
            "843/843 [==============================] - 2s 2ms/step - loss: 221.5851 - mse: 221.5851 - val_loss: 221.2260 - val_mse: 221.2260\n",
            "Epoch 33/100\n",
            "843/843 [==============================] - 2s 2ms/step - loss: 221.0336 - mse: 221.0336 - val_loss: 222.1756 - val_mse: 222.1756\n",
            "Epoch 34/100\n",
            "843/843 [==============================] - 2s 2ms/step - loss: 221.2951 - mse: 221.2951 - val_loss: 222.4898 - val_mse: 222.4898\n",
            "Epoch 35/100\n",
            "843/843 [==============================] - 2s 2ms/step - loss: 221.0007 - mse: 221.0007 - val_loss: 221.6125 - val_mse: 221.6125\n",
            "Epoch 36/100\n",
            "843/843 [==============================] - 4s 4ms/step - loss: 220.8795 - mse: 220.8795 - val_loss: 224.3020 - val_mse: 224.3020\n",
            "Epoch 37/100\n",
            "843/843 [==============================] - 2s 3ms/step - loss: 221.3441 - mse: 221.3441 - val_loss: 226.5117 - val_mse: 226.5117\n",
            "Epoch 38/100\n",
            "843/843 [==============================] - 2s 2ms/step - loss: 221.2149 - mse: 221.2149 - val_loss: 223.4889 - val_mse: 223.4889\n",
            "Epoch 39/100\n",
            "843/843 [==============================] - 2s 2ms/step - loss: 221.2477 - mse: 221.2477 - val_loss: 221.4840 - val_mse: 221.4840\n",
            "Epoch 40/100\n",
            "843/843 [==============================] - 2s 2ms/step - loss: 220.7956 - mse: 220.7956 - val_loss: 221.9216 - val_mse: 221.9216\n",
            "Epoch 41/100\n",
            "843/843 [==============================] - 2s 2ms/step - loss: 221.2612 - mse: 221.2612 - val_loss: 221.9909 - val_mse: 221.9909\n",
            "Epoch 42/100\n",
            "843/843 [==============================] - 2s 3ms/step - loss: 221.2697 - mse: 221.2697 - val_loss: 221.9063 - val_mse: 221.9063\n",
            "Epoch 43/100\n",
            "843/843 [==============================] - 3s 3ms/step - loss: 221.0218 - mse: 221.0218 - val_loss: 222.8195 - val_mse: 222.8195\n",
            "Epoch 44/100\n",
            "843/843 [==============================] - 2s 2ms/step - loss: 222.0037 - mse: 222.0037 - val_loss: 223.9511 - val_mse: 223.9511\n",
            "Epoch 45/100\n",
            "843/843 [==============================] - 3s 4ms/step - loss: 221.3907 - mse: 221.3907 - val_loss: 221.5301 - val_mse: 221.5301\n",
            "Epoch 46/100\n",
            "843/843 [==============================] - 3s 3ms/step - loss: 220.8886 - mse: 220.8886 - val_loss: 221.9893 - val_mse: 221.9893\n",
            "Epoch 47/100\n",
            "843/843 [==============================] - 2s 2ms/step - loss: 220.9584 - mse: 220.9584 - val_loss: 221.7584 - val_mse: 221.7584\n",
            "Epoch 48/100\n",
            "843/843 [==============================] - 2s 3ms/step - loss: 221.0478 - mse: 221.0478 - val_loss: 225.6380 - val_mse: 225.6380\n",
            "Epoch 49/100\n",
            "843/843 [==============================] - 3s 3ms/step - loss: 221.4384 - mse: 221.4384 - val_loss: 221.7949 - val_mse: 221.7949\n",
            "Epoch 50/100\n",
            "843/843 [==============================] - 2s 2ms/step - loss: 221.3242 - mse: 221.3242 - val_loss: 222.2481 - val_mse: 222.2481\n",
            "Epoch 51/100\n",
            "843/843 [==============================] - 2s 2ms/step - loss: 221.1866 - mse: 221.1866 - val_loss: 228.1246 - val_mse: 228.1246\n",
            "Epoch 52/100\n",
            "843/843 [==============================] - 2s 2ms/step - loss: 221.4629 - mse: 221.4629 - val_loss: 222.6974 - val_mse: 222.6974\n",
            "Epoch 53/100\n",
            "843/843 [==============================] - 2s 2ms/step - loss: 221.0451 - mse: 221.0451 - val_loss: 231.2535 - val_mse: 231.2535\n",
            "Epoch 54/100\n",
            "843/843 [==============================] - 2s 2ms/step - loss: 221.7740 - mse: 221.7740 - val_loss: 220.8323 - val_mse: 220.8323\n",
            "Epoch 55/100\n",
            "843/843 [==============================] - 2s 3ms/step - loss: 221.5369 - mse: 221.5369 - val_loss: 222.7871 - val_mse: 222.7871\n",
            "Epoch 56/100\n",
            "843/843 [==============================] - 3s 3ms/step - loss: 220.9910 - mse: 220.9910 - val_loss: 228.8444 - val_mse: 228.8444\n",
            "Epoch 57/100\n",
            "843/843 [==============================] - 2s 2ms/step - loss: 221.0694 - mse: 221.0694 - val_loss: 220.8345 - val_mse: 220.8345\n",
            "Epoch 58/100\n",
            "843/843 [==============================] - 2s 2ms/step - loss: 221.6796 - mse: 221.6796 - val_loss: 223.3707 - val_mse: 223.3707\n",
            "Epoch 59/100\n",
            "843/843 [==============================] - 2s 3ms/step - loss: 221.2787 - mse: 221.2787 - val_loss: 220.9640 - val_mse: 220.9640\n",
            "Epoch 60/100\n",
            "843/843 [==============================] - 2s 2ms/step - loss: 221.3259 - mse: 221.3259 - val_loss: 225.2814 - val_mse: 225.2814\n",
            "Epoch 61/100\n",
            "843/843 [==============================] - 2s 2ms/step - loss: 221.5156 - mse: 221.5156 - val_loss: 222.9932 - val_mse: 222.9932\n",
            "Epoch 62/100\n",
            "843/843 [==============================] - 3s 3ms/step - loss: 221.0361 - mse: 221.0361 - val_loss: 220.7308 - val_mse: 220.7308\n",
            "Epoch 63/100\n",
            "843/843 [==============================] - 2s 3ms/step - loss: 220.7059 - mse: 220.7059 - val_loss: 223.3306 - val_mse: 223.3306\n",
            "Epoch 64/100\n",
            "843/843 [==============================] - 2s 2ms/step - loss: 220.9801 - mse: 220.9801 - val_loss: 221.4107 - val_mse: 221.4107\n",
            "Epoch 65/100\n",
            "843/843 [==============================] - 2s 2ms/step - loss: 220.8422 - mse: 220.8422 - val_loss: 221.5503 - val_mse: 221.5503\n",
            "Epoch 66/100\n",
            "843/843 [==============================] - 2s 2ms/step - loss: 221.4925 - mse: 221.4925 - val_loss: 223.4583 - val_mse: 223.4583\n",
            "Epoch 67/100\n",
            "843/843 [==============================] - 2s 2ms/step - loss: 221.1743 - mse: 221.1743 - val_loss: 223.5455 - val_mse: 223.5455\n",
            "Epoch 68/100\n",
            "843/843 [==============================] - 2s 2ms/step - loss: 221.1401 - mse: 221.1401 - val_loss: 223.0431 - val_mse: 223.0431\n",
            "Epoch 69/100\n",
            "843/843 [==============================] - 3s 3ms/step - loss: 220.8492 - mse: 220.8492 - val_loss: 223.1633 - val_mse: 223.1633\n",
            "Epoch 70/100\n",
            "843/843 [==============================] - 2s 3ms/step - loss: 221.2093 - mse: 221.2093 - val_loss: 222.6091 - val_mse: 222.6091\n",
            "Epoch 71/100\n",
            "843/843 [==============================] - 2s 2ms/step - loss: 221.6043 - mse: 221.6043 - val_loss: 223.7032 - val_mse: 223.7032\n",
            "Epoch 72/100\n",
            "843/843 [==============================] - 2s 2ms/step - loss: 220.9060 - mse: 220.9060 - val_loss: 222.1377 - val_mse: 222.1377\n",
            "Epoch 73/100\n",
            "843/843 [==============================] - 2s 2ms/step - loss: 221.3711 - mse: 221.3711 - val_loss: 222.9256 - val_mse: 222.9256\n",
            "Epoch 74/100\n",
            "843/843 [==============================] - 2s 2ms/step - loss: 221.7569 - mse: 221.7569 - val_loss: 220.8360 - val_mse: 220.8360\n",
            "Epoch 75/100\n",
            "843/843 [==============================] - 2s 2ms/step - loss: 221.1127 - mse: 221.1127 - val_loss: 221.6729 - val_mse: 221.6729\n",
            "Epoch 76/100\n",
            "843/843 [==============================] - 3s 3ms/step - loss: 220.9734 - mse: 220.9734 - val_loss: 222.0403 - val_mse: 222.0403\n",
            "Epoch 77/100\n",
            "843/843 [==============================] - 2s 3ms/step - loss: 221.7686 - mse: 221.7686 - val_loss: 221.8608 - val_mse: 221.8608\n",
            "Epoch 78/100\n",
            "843/843 [==============================] - 2s 2ms/step - loss: 221.2040 - mse: 221.2040 - val_loss: 221.7497 - val_mse: 221.7497\n",
            "Epoch 79/100\n",
            "843/843 [==============================] - 2s 2ms/step - loss: 221.1528 - mse: 221.1528 - val_loss: 221.9346 - val_mse: 221.9346\n",
            "Epoch 80/100\n",
            "843/843 [==============================] - 2s 2ms/step - loss: 221.0687 - mse: 221.0687 - val_loss: 222.3872 - val_mse: 222.3872\n",
            "Epoch 81/100\n",
            "843/843 [==============================] - 2s 2ms/step - loss: 221.1037 - mse: 221.1037 - val_loss: 221.8828 - val_mse: 221.8828\n",
            "Epoch 82/100\n",
            "843/843 [==============================] - 2s 2ms/step - loss: 220.9326 - mse: 220.9326 - val_loss: 222.5544 - val_mse: 222.5544\n",
            "Epoch 83/100\n",
            "843/843 [==============================] - 3s 3ms/step - loss: 220.7293 - mse: 220.7293 - val_loss: 222.2744 - val_mse: 222.2744\n",
            "Epoch 84/100\n",
            "843/843 [==============================] - 2s 3ms/step - loss: 221.4133 - mse: 221.4133 - val_loss: 222.1364 - val_mse: 222.1364\n",
            "Epoch 85/100\n",
            "843/843 [==============================] - 2s 2ms/step - loss: 220.9503 - mse: 220.9503 - val_loss: 224.8869 - val_mse: 224.8869\n",
            "Epoch 86/100\n",
            "843/843 [==============================] - 2s 2ms/step - loss: 221.5600 - mse: 221.5600 - val_loss: 222.5735 - val_mse: 222.5735\n",
            "Epoch 87/100\n",
            "843/843 [==============================] - 2s 2ms/step - loss: 221.1177 - mse: 221.1177 - val_loss: 222.0205 - val_mse: 222.0205\n",
            "Epoch 88/100\n",
            "843/843 [==============================] - 2s 2ms/step - loss: 221.0530 - mse: 221.0530 - val_loss: 221.8194 - val_mse: 221.8194\n",
            "Epoch 89/100\n",
            "843/843 [==============================] - 2s 2ms/step - loss: 221.1382 - mse: 221.1382 - val_loss: 222.7299 - val_mse: 222.7299\n",
            "Epoch 90/100\n",
            "843/843 [==============================] - 3s 3ms/step - loss: 221.1495 - mse: 221.1495 - val_loss: 221.7246 - val_mse: 221.7246\n",
            "Epoch 91/100\n",
            "843/843 [==============================] - 2s 3ms/step - loss: 221.0466 - mse: 221.0466 - val_loss: 222.6350 - val_mse: 222.6350\n",
            "Epoch 92/100\n",
            "843/843 [==============================] - 2s 2ms/step - loss: 220.9508 - mse: 220.9508 - val_loss: 221.9912 - val_mse: 221.9912\n",
            "Epoch 93/100\n",
            "843/843 [==============================] - 2s 2ms/step - loss: 220.9818 - mse: 220.9818 - val_loss: 221.4359 - val_mse: 221.4359\n",
            "Epoch 94/100\n",
            "843/843 [==============================] - 2s 2ms/step - loss: 220.6548 - mse: 220.6548 - val_loss: 224.3769 - val_mse: 224.3769\n",
            "Epoch 95/100\n",
            "843/843 [==============================] - 2s 2ms/step - loss: 221.0309 - mse: 221.0309 - val_loss: 222.0357 - val_mse: 222.0357\n",
            "Epoch 96/100\n",
            "843/843 [==============================] - 2s 2ms/step - loss: 221.1953 - mse: 221.1953 - val_loss: 223.2258 - val_mse: 223.2258\n",
            "Epoch 97/100\n",
            "843/843 [==============================] - 3s 3ms/step - loss: 221.3750 - mse: 221.3750 - val_loss: 224.2895 - val_mse: 224.2895\n",
            "Epoch 98/100\n",
            "843/843 [==============================] - 2s 3ms/step - loss: 221.8152 - mse: 221.8152 - val_loss: 221.8617 - val_mse: 221.8617\n",
            "Epoch 99/100\n",
            "843/843 [==============================] - 2s 2ms/step - loss: 221.2498 - mse: 221.2498 - val_loss: 222.4346 - val_mse: 222.4346\n",
            "Epoch 100/100\n",
            "843/843 [==============================] - 2s 2ms/step - loss: 220.7403 - mse: 220.7403 - val_loss: 229.6290 - val_mse: 229.6290\n",
            "329/329 [==============================] - 1s 2ms/step - loss: 227.6549 - mse: 227.6549\n",
            "mse 22765.48614501953\n"
          ]
        }
      ],
      "source": [
        "# Fit the model\n",
        "h = model.fit(X_train, Y_train, validation_split=0.2, epochs=100, batch_size=10)\n",
        "\n",
        "# evaluate the model on train data\n",
        "scores = model.evaluate(X_train, Y_train)\n",
        "print(model.metrics_names[1], scores[1]*100)"
      ]
    },
    {
      "cell_type": "code",
      "execution_count": 168,
      "metadata": {
        "colab": {
          "base_uri": "https://localhost:8080/"
        },
        "id": "ufEtmOlBO9lS",
        "outputId": "d3f6e28d-71ad-4472-a8a6-b93d196001dc"
      },
      "outputs": [
        {
          "output_type": "stream",
          "name": "stdout",
          "text": [
            "329/329 [==============================] - 1s 1ms/step\n"
          ]
        }
      ],
      "source": [
        "y_pred = model.predict(X_train)"
      ]
    },
    {
      "cell_type": "code",
      "execution_count": 169,
      "metadata": {
        "colab": {
          "base_uri": "https://localhost:8080/"
        },
        "id": "Kmhv00__QvYY",
        "outputId": "4b7cab23-47ce-4c2f-dc93-72c6e6aa56c3"
      },
      "outputs": [
        {
          "output_type": "execute_result",
          "data": {
            "text/plain": [
              "12.165318925128632"
            ]
          },
          "metadata": {},
          "execution_count": 169
        }
      ],
      "source": [
        "from sklearn.metrics import accuracy_score,mean_absolute_error,mean_squared_error\n",
        "mean_absolute_error(Y_train,y_pred)"
      ]
    },
    {
      "cell_type": "code",
      "execution_count": 171,
      "metadata": {
        "colab": {
          "base_uri": "https://localhost:8080/"
        },
        "id": "e9maMNAdRG84",
        "outputId": "d62bbe0c-ec5f-4929-f5d9-5df64c8828ea"
      },
      "outputs": [
        {
          "output_type": "stream",
          "name": "stdout",
          "text": [
            "141/141 [==============================] - 0s 2ms/step - loss: 233.4798 - mse: 233.4798\n"
          ]
        }
      ],
      "source": [
        "# testing data\n",
        "test_score = model.evaluate(X_test,Y_test)"
      ]
    },
    {
      "cell_type": "code",
      "execution_count": 170,
      "metadata": {
        "colab": {
          "base_uri": "https://localhost:8080/"
        },
        "id": "eY7UxO8WRG5q",
        "outputId": "16d69276-fc71-4246-d5a6-b230ebf1539a"
      },
      "outputs": [
        {
          "output_type": "stream",
          "name": "stdout",
          "text": [
            "141/141 [==============================] - 0s 1ms/step\n"
          ]
        }
      ],
      "source": [
        "y_test_pred = model.predict(X_test)"
      ]
    },
    {
      "cell_type": "code",
      "execution_count": 172,
      "metadata": {
        "colab": {
          "base_uri": "https://localhost:8080/"
        },
        "id": "ksjqr9ANRQaj",
        "outputId": "0825f596-1954-425e-cdac-0b60c7653e22"
      },
      "outputs": [
        {
          "output_type": "execute_result",
          "data": {
            "text/plain": [
              "12.359967234523582"
            ]
          },
          "metadata": {},
          "execution_count": 172
        }
      ],
      "source": [
        "mean_absolute_error(Y_test,y_test_pred)"
      ]
    },
    {
      "cell_type": "code",
      "execution_count": 173,
      "metadata": {
        "colab": {
          "base_uri": "https://localhost:8080/"
        },
        "id": "l2KJwS0fRQWb",
        "outputId": "a1af0cf4-700c-4a64-8dc1-6ca7f7c5d416"
      },
      "outputs": [
        {
          "output_type": "execute_result",
          "data": {
            "text/plain": [
              "233.47968094172128"
            ]
          },
          "metadata": {},
          "execution_count": 173
        }
      ],
      "source": [
        "mean_squared_error(Y_test,y_test_pred)"
      ]
    }
  ],
  "metadata": {
    "colab": {
      "provenance": []
    },
    "kernelspec": {
      "display_name": "Python 3",
      "name": "python3"
    },
    "language_info": {
      "name": "python"
    }
  },
  "nbformat": 4,
  "nbformat_minor": 0
}